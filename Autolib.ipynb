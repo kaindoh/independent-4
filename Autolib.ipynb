{
  "nbformat": 4,
  "nbformat_minor": 0,
  "metadata": {
    "colab": {
      "name": "Autolib",
      "version": "0.3.2",
      "provenance": [],
      "collapsed_sections": []
    },
    "kernelspec": {
      "display_name": "Python 3",
      "name": "python3"
    }
  },
  "cells": [
    {
      "cell_type": "markdown",
      "metadata": {
        "colab_type": "text",
        "id": "5fCEDCU_qrC0"
      },
      "source": [
        "<p><img alt=\"Colaboratory logo\" height=\"45px\" src=\"https://colab.research.google.com/img/colab_favicon.ico\" align=\"left\" hspace=\"10px\" vspace=\"0px\"></p>\n",
        "\n",
        "<h1>Welcome to Colaboratory!</h1>\n",
        "\n",
        "\n",
        "Colaboratory is a free Jupyter notebook environment that requires no setup and runs entirely in the cloud.\n",
        "\n",
        "With Colaboratory you can write and execute code, save and share your analyses, and access powerful computing resources, all for free from your browser."
      ]
    },
    {
      "cell_type": "markdown",
      "metadata": {
        "id": "JJSuHnBjvyao",
        "colab_type": "text"
      },
      "source": [
        "# Importing files"
      ]
    },
    {
      "cell_type": "code",
      "metadata": {
        "id": "CQr0L-a0twCa",
        "colab_type": "code",
        "colab": {}
      },
      "source": [
        "#importing files\n",
        "import numpy as np\n",
        "import pandas as pd\n",
        "import datetime as dt\n",
        "import seaborn as sns \n",
        "import matplotlib.pyplot as plt"
      ],
      "execution_count": 0,
      "outputs": []
    },
    {
      "cell_type": "markdown",
      "metadata": {
        "id": "d_TMw-tGv4ND",
        "colab_type": "text"
      },
      "source": [
        "# Loading Dataset"
      ]
    },
    {
      "cell_type": "code",
      "metadata": {
        "id": "04STj-EDt-sd",
        "colab_type": "code",
        "colab": {}
      },
      "source": [
        "car = pd.read_csv('autolib_dataset_moringa_w4.csv')\n"
      ],
      "execution_count": 0,
      "outputs": []
    },
    {
      "cell_type": "code",
      "metadata": {
        "id": "huFBJUYIwyxD",
        "colab_type": "code",
        "outputId": "b3cdf176-9ce3-4552-9ffe-e541ea9c736e",
        "colab": {
          "base_uri": "https://localhost:8080/",
          "height": 538
        }
      },
      "source": [
        "#Getting the dataset information\n",
        "car.info()"
      ],
      "execution_count": 0,
      "outputs": [
        {
          "output_type": "stream",
          "text": [
            "<class 'pandas.core.frame.DataFrame'>\n",
            "RangeIndex: 14421829 entries, 0 to 14421828\n",
            "Data columns (total 26 columns):\n",
            "Unnamed: 0             int64\n",
            "Address                object\n",
            "Cars                   int64\n",
            "Bluecar counter        int64\n",
            "Utilib counter         int64\n",
            "Utilib 1.4 counter     int64\n",
            "Charge Slots           int64\n",
            "Charging Status        object\n",
            "City                   object\n",
            "Displayed comment      object\n",
            "ID                     object\n",
            "Kind                   object\n",
            "Geo point              object\n",
            "Postal code            int64\n",
            "Public name            object\n",
            "Rental status          object\n",
            "Scheduled at           object\n",
            "Slots                  int64\n",
            "Station type           object\n",
            "Status                 object\n",
            "Subscription status    object\n",
            "year                   int64\n",
            "month                  int64\n",
            "day                    int64\n",
            "hour                   int64\n",
            "minute                 int64\n",
            "dtypes: int64(13), object(13)\n",
            "memory usage: 2.8+ GB\n"
          ],
          "name": "stdout"
        }
      ]
    },
    {
      "cell_type": "markdown",
      "metadata": {
        "id": "CKZlD_wnznc7",
        "colab_type": "text"
      },
      "source": [
        "# Cleaning Dataset"
      ]
    },
    {
      "cell_type": "markdown",
      "metadata": {
        "id": "1pVSXXST0EqJ",
        "colab_type": "text"
      },
      "source": [
        "##*Validity*"
      ]
    },
    {
      "cell_type": "code",
      "metadata": {
        "id": "cJa_yDvc9yit",
        "colab_type": "code",
        "outputId": "154f4bc7-21f8-450c-d67f-de614228022d",
        "colab": {
          "base_uri": "https://localhost:8080/",
          "height": 279
        }
      },
      "source": [
        "#Boxplot Bluecar counter\n",
        "bplot1= sns.boxplot(x=car['Bluecar counter'])"
      ],
      "execution_count": 0,
      "outputs": [
        {
          "output_type": "display_data",
          "data": {
            "text/plain": [
              "<Figure size 432x288 with 1 Axes>"
            ],
            "image/png": "[encoded data removed]"
          },
          "metadata": {
            "tags": [],
            "needs_background": "light"
          }
        }
      ]
    },
    {
      "cell_type": "code",
      "metadata": {
        "id": "BJvw4KpCIaYz",
        "colab_type": "code",
        "outputId": "55c27e90-fc87-4a10-9428-3ce65723e5f8",
        "colab": {
          "base_uri": "https://localhost:8080/",
          "height": 279
        }
      },
      "source": [
        "#Boxplot  on Utilib counter\n",
        "bplot2= sns.boxplot(x=car['Utilib counter'])"
      ],
      "execution_count": 0,
      "outputs": [
        {
          "output_type": "display_data",
          "data": {
            "text/plain": [
              "<Figure size 432x288 with 1 Axes>"
            ],
            "image/png": "[encoded data removed]"
          },
          "metadata": {
            "tags": [],
            "needs_background": "light"
          }
        }
      ]
    },
    {
      "cell_type": "code",
      "metadata": {
        "id": "OjGoql_iJE-1",
        "colab_type": "code",
        "outputId": "bfddef06-7adc-4e28-95d9-67970e088877",
        "colab": {
          "base_uri": "https://localhost:8080/",
          "height": 279
        }
      },
      "source": [
        "#boxplot on Utilib counter 1.4\n",
        "bplot3= sns.boxplot(x=car['Utilib 1.4 counter'])"
      ],
      "execution_count": 0,
      "outputs": [
        {
          "output_type": "display_data",
          "data": {
            "text/plain": [
              "<Figure size 432x288 with 1 Axes>"
            ],
            "image/png": "[encoded data removed]"
          },
          "metadata": {
            "tags": [],
            "needs_background": "light"
          }
        }
      ]
    },
    {
      "cell_type": "code",
      "metadata": {
        "id": "VbTMlHKHzzZn",
        "colab_type": "code",
        "outputId": "45ada855-aeff-4312-8c3e-7f08db1555bb",
        "colab": {
          "base_uri": "https://localhost:8080/",
          "height": 294
        }
      },
      "source": [
        "\n",
        "bplot2= sns.boxplot(x=car['hour'],y=car['Bluecar counter'],palette='colorblind',width=0.5)\n",
        "plt.figure(figsize =(10,10))\n",
        "bplot2.axes.set_title(\"Cars per Hour\",fontsize=2)\n",
        "bplot2.set_xlabel(\"Hour\",fontsize=2)\n",
        "bplot2.set_ylabel(\"Cars\",fontsize=2)\n",
        "plt.show()\n"
      ],
      "execution_count": 0,
      "outputs": [
        {
          "output_type": "display_data",
          "data": {
            "text/plain": [
              "<Figure size 432x288 with 1 Axes>"
            ],
            "image/png": "[encoded data removed]"
          },
          "metadata": {
            "tags": [],
            "needs_background": "light"
          }
        },
        {
          "output_type": "display_data",
          "data": {
            "text/plain": [
              "<Figure size 720x720 with 0 Axes>"
            ]
          },
          "metadata": {
            "tags": []
          }
        }
      ]
    },
    {
      "cell_type": "code",
      "metadata": {
        "id": "43cH3bw8__jV",
        "colab_type": "code",
        "outputId": "382f8943-a753-4800-dd55-e709e284212a",
        "colab": {
          "base_uri": "https://localhost:8080/",
          "height": 409
        }
      },
      "source": [
        "#finding outliers using interquantile range\n",
        "Q1 = car.quantile(0.25)\n",
        "Q3 = car.quantile(0.75)\n",
        "IQR = Q3-Q1\n",
        "\n",
        "outliers= car[((car < (Q1 - 1.5*IQR)) | (car > (Q3 + 1.5*IQR))).any(axis=1)]\n",
        "outliers.head()\n"
      ],
      "execution_count": 0,
      "outputs": [
        {
          "output_type": "execute_result",
          "data": {
            "text/plain": [
              "   Unnamed: 0                       Address  Cars  Bluecar counter  \\\n",
              "0           0                24 Rue Vulpian     3                3   \n",
              "1           1    8 Boulevard Richard Lenoir     0                0   \n",
              "2           2          4 Rue Charles Bossut     3                3   \n",
              "4           4        236 Boulevard Voltaire     1                1   \n",
              "5           5  44 Rue des Pirogues de Bercy     1                1   \n",
              "\n",
              "   Utilib counter  Utilib 1.4 counter  Charge Slots Charging Status   City  \\\n",
              "0               1                   0             1     operational  Paris   \n",
              "1               0                   0             1     operational  Paris   \n",
              "2               0                   0             1     operational  Paris   \n",
              "4               0                   0             1     operational  Paris   \n",
              "5               0                   0             2     operational  Paris   \n",
              "\n",
              "  Displayed comment  ... Scheduled at Slots Station type  Status  \\\n",
              "0               NaN  ...          NaN     1      station      ok   \n",
              "1               NaN  ...          NaN     3      station      ok   \n",
              "2               NaN  ...          NaN     2      station      ok   \n",
              "4               NaN  ...          NaN     4      station      ok   \n",
              "5               NaN  ...          NaN     4      station      ok   \n",
              "\n",
              "  Subscription status  year month  day hour minute  \n",
              "0         nonexistent  2018     4    1    0      0  \n",
              "1         nonexistent  2018     4    1    0      0  \n",
              "2         nonexistent  2018     4    1    0      0  \n",
              "4         nonexistent  2018     4    1    0      0  \n",
              "5         nonexistent  2018     4    1    0      0  \n",
              "\n",
              "[5 rows x 26 columns]"
            ],
            "text/html": [
              "<div>\n",
              "<style scoped>\n",
              "    .dataframe tbody tr th:only-of-type {\n",
              "        vertical-align: middle;\n",
              "    }\n",
              "\n",
              "    .dataframe tbody tr th {\n",
              "        vertical-align: top;\n",
              "    }\n",
              "\n",
              "    .dataframe thead th {\n",
              "        text-align: right;\n",
              "    }\n",
              "</style>\n",
              "<table border=\"1\" class=\"dataframe\">\n",
              "  <thead>\n",
              "    <tr style=\"text-align: right;\">\n",
              "      <th></th>\n",
              "      <th>Unnamed: 0</th>\n",
              "      <th>Address</th>\n",
              "      <th>Cars</th>\n",
              "      <th>Bluecar counter</th>\n",
              "      <th>Utilib counter</th>\n",
              "      <th>Utilib 1.4 counter</th>\n",
              "      <th>Charge Slots</th>\n",
              "      <th>Charging Status</th>\n",
              "      <th>City</th>\n",
              "      <th>Displayed comment</th>\n",
              "      <th>...</th>\n",
              "      <th>Scheduled at</th>\n",
              "      <th>Slots</th>\n",
              "      <th>Station type</th>\n",
              "      <th>Status</th>\n",
              "      <th>Subscription status</th>\n",
              "      <th>year</th>\n",
              "      <th>month</th>\n",
              "      <th>day</th>\n",
              "      <th>hour</th>\n",
              "      <th>minute</th>\n",
              "    </tr>\n",
              "  </thead>\n",
              "  <tbody>\n",
              "    <tr>\n",
              "      <th>0</th>\n",
              "      <td>0</td>\n",
              "      <td>24 Rue Vulpian</td>\n",
              "      <td>3</td>\n",
              "      <td>3</td>\n",
              "      <td>1</td>\n",
              "      <td>0</td>\n",
              "      <td>1</td>\n",
              "      <td>operational</td>\n",
              "      <td>Paris</td>\n",
              "      <td>NaN</td>\n",
              "      <td>...</td>\n",
              "      <td>NaN</td>\n",
              "      <td>1</td>\n",
              "      <td>station</td>\n",
              "      <td>ok</td>\n",
              "      <td>nonexistent</td>\n",
              "      <td>2018</td>\n",
              "      <td>4</td>\n",
              "      <td>1</td>\n",
              "      <td>0</td>\n",
              "      <td>0</td>\n",
              "    </tr>\n",
              "    <tr>\n",
              "      <th>1</th>\n",
              "      <td>1</td>\n",
              "      <td>8 Boulevard Richard Lenoir</td>\n",
              "      <td>0</td>\n",
              "      <td>0</td>\n",
              "      <td>0</td>\n",
              "      <td>0</td>\n",
              "      <td>1</td>\n",
              "      <td>operational</td>\n",
              "      <td>Paris</td>\n",
              "      <td>NaN</td>\n",
              "      <td>...</td>\n",
              "      <td>NaN</td>\n",
              "      <td>3</td>\n",
              "      <td>station</td>\n",
              "      <td>ok</td>\n",
              "      <td>nonexistent</td>\n",
              "      <td>2018</td>\n",
              "      <td>4</td>\n",
              "      <td>1</td>\n",
              "      <td>0</td>\n",
              "      <td>0</td>\n",
              "    </tr>\n",
              "    <tr>\n",
              "      <th>2</th>\n",
              "      <td>2</td>\n",
              "      <td>4 Rue Charles Bossut</td>\n",
              "      <td>3</td>\n",
              "      <td>3</td>\n",
              "      <td>0</td>\n",
              "      <td>0</td>\n",
              "      <td>1</td>\n",
              "      <td>operational</td>\n",
              "      <td>Paris</td>\n",
              "      <td>NaN</td>\n",
              "      <td>...</td>\n",
              "      <td>NaN</td>\n",
              "      <td>2</td>\n",
              "      <td>station</td>\n",
              "      <td>ok</td>\n",
              "      <td>nonexistent</td>\n",
              "      <td>2018</td>\n",
              "      <td>4</td>\n",
              "      <td>1</td>\n",
              "      <td>0</td>\n",
              "      <td>0</td>\n",
              "    </tr>\n",
              "    <tr>\n",
              "      <th>4</th>\n",
              "      <td>4</td>\n",
              "      <td>236 Boulevard Voltaire</td>\n",
              "      <td>1</td>\n",
              "      <td>1</td>\n",
              "      <td>0</td>\n",
              "      <td>0</td>\n",
              "      <td>1</td>\n",
              "      <td>operational</td>\n",
              "      <td>Paris</td>\n",
              "      <td>NaN</td>\n",
              "      <td>...</td>\n",
              "      <td>NaN</td>\n",
              "      <td>4</td>\n",
              "      <td>station</td>\n",
              "      <td>ok</td>\n",
              "      <td>nonexistent</td>\n",
              "      <td>2018</td>\n",
              "      <td>4</td>\n",
              "      <td>1</td>\n",
              "      <td>0</td>\n",
              "      <td>0</td>\n",
              "    </tr>\n",
              "    <tr>\n",
              "      <th>5</th>\n",
              "      <td>5</td>\n",
              "      <td>44 Rue des Pirogues de Bercy</td>\n",
              "      <td>1</td>\n",
              "      <td>1</td>\n",
              "      <td>0</td>\n",
              "      <td>0</td>\n",
              "      <td>2</td>\n",
              "      <td>operational</td>\n",
              "      <td>Paris</td>\n",
              "      <td>NaN</td>\n",
              "      <td>...</td>\n",
              "      <td>NaN</td>\n",
              "      <td>4</td>\n",
              "      <td>station</td>\n",
              "      <td>ok</td>\n",
              "      <td>nonexistent</td>\n",
              "      <td>2018</td>\n",
              "      <td>4</td>\n",
              "      <td>1</td>\n",
              "      <td>0</td>\n",
              "      <td>0</td>\n",
              "    </tr>\n",
              "  </tbody>\n",
              "</table>\n",
              "<p>5 rows × 26 columns</p>\n",
              "</div>"
            ]
          },
          "metadata": {
            "tags": []
          },
          "execution_count": 79
        }
      ]
    },
    {
      "cell_type": "code",
      "metadata": {
        "id": "P6uEFcXuF-P3",
        "colab_type": "code",
        "outputId": "cc33d5f1-1015-4123-d8f9-7b0f597ef166",
        "colab": {
          "base_uri": "https://localhost:8080/",
          "height": 34
        }
      },
      "source": [
        "outliers.shape"
      ],
      "execution_count": 0,
      "outputs": [
        {
          "output_type": "execute_result",
          "data": {
            "text/plain": [
              "(4895084, 26)"
            ]
          },
          "metadata": {
            "tags": []
          },
          "execution_count": 80
        }
      ]
    },
    {
      "cell_type": "code",
      "metadata": {
        "id": "ZHi74YfmGDi6",
        "colab_type": "code",
        "outputId": "fcc5bdd1-56a9-4a38-f607-8dab0607f9ba",
        "colab": {
          "base_uri": "https://localhost:8080/",
          "height": 442
        }
      },
      "source": [
        "non_outliers= car[~((car < (Q1 - 1.5*IQR)) | (car > (Q3 + 1.5*IQR))).any(axis=1)]\n",
        "non_outliers.head()\n"
      ],
      "execution_count": 0,
      "outputs": [
        {
          "output_type": "execute_result",
          "data": {
            "text/plain": [
              "    Unnamed: 0                             Address  Cars  Bluecar counter  \\\n",
              "3            3           3 avenue Claude Vellefaux     4                4   \n",
              "8            8  10 Avenue du Docteur Arnold Netter     4                4   \n",
              "10          10            2 Rue Houdart de Lamotte     3                3   \n",
              "11          11   238 Rue du Faubourg Saint-Antoine     2                2   \n",
              "19          19                        99 Rue Monge     1                1   \n",
              "\n",
              "    Utilib counter  Utilib 1.4 counter  Charge Slots Charging Status   City  \\\n",
              "3                0                   0             0     operational  Paris   \n",
              "8                0                   0             0     operational  Paris   \n",
              "10               0                   0             0     nonexistent  Paris   \n",
              "11               0                   0             0     operational  Paris   \n",
              "19               0                   0             0     operational  Paris   \n",
              "\n",
              "   Displayed comment  ... Scheduled at Slots Station type  Status  \\\n",
              "3                NaN  ...          NaN     1      station      ok   \n",
              "8                NaN  ...          NaN     0      station      ok   \n",
              "10               NaN  ...          NaN     1      station      ok   \n",
              "11               NaN  ...          NaN     2      station      ok   \n",
              "19               NaN  ...          NaN     2      station      ok   \n",
              "\n",
              "   Subscription status  year month  day hour minute  \n",
              "3          nonexistent  2018     4    1    0      0  \n",
              "8          nonexistent  2018     4    1    0      0  \n",
              "10         nonexistent  2018     4    1    0      0  \n",
              "11         nonexistent  2018     4    1    0      0  \n",
              "19         nonexistent  2018     4    1    0      0  \n",
              "\n",
              "[5 rows x 26 columns]"
            ],
            "text/html": [
              "<div>\n",
              "<style scoped>\n",
              "    .dataframe tbody tr th:only-of-type {\n",
              "        vertical-align: middle;\n",
              "    }\n",
              "\n",
              "    .dataframe tbody tr th {\n",
              "        vertical-align: top;\n",
              "    }\n",
              "\n",
              "    .dataframe thead th {\n",
              "        text-align: right;\n",
              "    }\n",
              "</style>\n",
              "<table border=\"1\" class=\"dataframe\">\n",
              "  <thead>\n",
              "    <tr style=\"text-align: right;\">\n",
              "      <th></th>\n",
              "      <th>Unnamed: 0</th>\n",
              "      <th>Address</th>\n",
              "      <th>Cars</th>\n",
              "      <th>Bluecar counter</th>\n",
              "      <th>Utilib counter</th>\n",
              "      <th>Utilib 1.4 counter</th>\n",
              "      <th>Charge Slots</th>\n",
              "      <th>Charging Status</th>\n",
              "      <th>City</th>\n",
              "      <th>Displayed comment</th>\n",
              "      <th>...</th>\n",
              "      <th>Scheduled at</th>\n",
              "      <th>Slots</th>\n",
              "      <th>Station type</th>\n",
              "      <th>Status</th>\n",
              "      <th>Subscription status</th>\n",
              "      <th>year</th>\n",
              "      <th>month</th>\n",
              "      <th>day</th>\n",
              "      <th>hour</th>\n",
              "      <th>minute</th>\n",
              "    </tr>\n",
              "  </thead>\n",
              "  <tbody>\n",
              "    <tr>\n",
              "      <th>3</th>\n",
              "      <td>3</td>\n",
              "      <td>3 avenue Claude Vellefaux</td>\n",
              "      <td>4</td>\n",
              "      <td>4</td>\n",
              "      <td>0</td>\n",
              "      <td>0</td>\n",
              "      <td>0</td>\n",
              "      <td>operational</td>\n",
              "      <td>Paris</td>\n",
              "      <td>NaN</td>\n",
              "      <td>...</td>\n",
              "      <td>NaN</td>\n",
              "      <td>1</td>\n",
              "      <td>station</td>\n",
              "      <td>ok</td>\n",
              "      <td>nonexistent</td>\n",
              "      <td>2018</td>\n",
              "      <td>4</td>\n",
              "      <td>1</td>\n",
              "      <td>0</td>\n",
              "      <td>0</td>\n",
              "    </tr>\n",
              "    <tr>\n",
              "      <th>8</th>\n",
              "      <td>8</td>\n",
              "      <td>10 Avenue du Docteur Arnold Netter</td>\n",
              "      <td>4</td>\n",
              "      <td>4</td>\n",
              "      <td>0</td>\n",
              "      <td>0</td>\n",
              "      <td>0</td>\n",
              "      <td>operational</td>\n",
              "      <td>Paris</td>\n",
              "      <td>NaN</td>\n",
              "      <td>...</td>\n",
              "      <td>NaN</td>\n",
              "      <td>0</td>\n",
              "      <td>station</td>\n",
              "      <td>ok</td>\n",
              "      <td>nonexistent</td>\n",
              "      <td>2018</td>\n",
              "      <td>4</td>\n",
              "      <td>1</td>\n",
              "      <td>0</td>\n",
              "      <td>0</td>\n",
              "    </tr>\n",
              "    <tr>\n",
              "      <th>10</th>\n",
              "      <td>10</td>\n",
              "      <td>2 Rue Houdart de Lamotte</td>\n",
              "      <td>3</td>\n",
              "      <td>3</td>\n",
              "      <td>0</td>\n",
              "      <td>0</td>\n",
              "      <td>0</td>\n",
              "      <td>nonexistent</td>\n",
              "      <td>Paris</td>\n",
              "      <td>NaN</td>\n",
              "      <td>...</td>\n",
              "      <td>NaN</td>\n",
              "      <td>1</td>\n",
              "      <td>station</td>\n",
              "      <td>ok</td>\n",
              "      <td>nonexistent</td>\n",
              "      <td>2018</td>\n",
              "      <td>4</td>\n",
              "      <td>1</td>\n",
              "      <td>0</td>\n",
              "      <td>0</td>\n",
              "    </tr>\n",
              "    <tr>\n",
              "      <th>11</th>\n",
              "      <td>11</td>\n",
              "      <td>238 Rue du Faubourg Saint-Antoine</td>\n",
              "      <td>2</td>\n",
              "      <td>2</td>\n",
              "      <td>0</td>\n",
              "      <td>0</td>\n",
              "      <td>0</td>\n",
              "      <td>operational</td>\n",
              "      <td>Paris</td>\n",
              "      <td>NaN</td>\n",
              "      <td>...</td>\n",
              "      <td>NaN</td>\n",
              "      <td>2</td>\n",
              "      <td>station</td>\n",
              "      <td>ok</td>\n",
              "      <td>nonexistent</td>\n",
              "      <td>2018</td>\n",
              "      <td>4</td>\n",
              "      <td>1</td>\n",
              "      <td>0</td>\n",
              "      <td>0</td>\n",
              "    </tr>\n",
              "    <tr>\n",
              "      <th>19</th>\n",
              "      <td>19</td>\n",
              "      <td>99 Rue Monge</td>\n",
              "      <td>1</td>\n",
              "      <td>1</td>\n",
              "      <td>0</td>\n",
              "      <td>0</td>\n",
              "      <td>0</td>\n",
              "      <td>operational</td>\n",
              "      <td>Paris</td>\n",
              "      <td>NaN</td>\n",
              "      <td>...</td>\n",
              "      <td>NaN</td>\n",
              "      <td>2</td>\n",
              "      <td>station</td>\n",
              "      <td>ok</td>\n",
              "      <td>nonexistent</td>\n",
              "      <td>2018</td>\n",
              "      <td>4</td>\n",
              "      <td>1</td>\n",
              "      <td>0</td>\n",
              "      <td>0</td>\n",
              "    </tr>\n",
              "  </tbody>\n",
              "</table>\n",
              "<p>5 rows × 26 columns</p>\n",
              "</div>"
            ]
          },
          "metadata": {
            "tags": []
          },
          "execution_count": 81
        }
      ]
    },
    {
      "cell_type": "code",
      "metadata": {
        "id": "yo6Z7qUFGYLQ",
        "colab_type": "code",
        "outputId": "0c6ac997-bc1d-4da0-adab-563c53b96383",
        "colab": {
          "base_uri": "https://localhost:8080/",
          "height": 34
        }
      },
      "source": [
        "non_outliers.shape"
      ],
      "execution_count": 0,
      "outputs": [
        {
          "output_type": "execute_result",
          "data": {
            "text/plain": [
              "(9526745, 26)"
            ]
          },
          "metadata": {
            "tags": []
          },
          "execution_count": 82
        }
      ]
    },
    {
      "cell_type": "code",
      "metadata": {
        "id": "50FnIvmfGvrT",
        "colab_type": "code",
        "outputId": "f4272035-884a-45cc-f7fd-94d28db99bcc",
        "colab": {
          "base_uri": "https://localhost:8080/",
          "height": 134
        }
      },
      "source": [
        "car.columns.values"
      ],
      "execution_count": 0,
      "outputs": [
        {
          "output_type": "execute_result",
          "data": {
            "text/plain": [
              "array(['Unnamed: 0', 'Address', 'Cars', 'Bluecar counter',\n",
              "       'Utilib counter', 'Utilib 1.4 counter', 'Charge Slots',\n",
              "       'Charging Status', 'City', 'Displayed comment', 'ID', 'Kind',\n",
              "       'Geo point', 'Postal code', 'Public name', 'Rental status',\n",
              "       'Scheduled at', 'Slots', 'Station type', 'Status',\n",
              "       'Subscription status', 'year', 'month', 'day', 'hour', 'minute'],\n",
              "      dtype=object)"
            ]
          },
          "metadata": {
            "tags": []
          },
          "execution_count": 83
        }
      ]
    },
    {
      "cell_type": "code",
      "metadata": {
        "id": "nOB1U1o9KOQh",
        "colab_type": "code",
        "colab": {}
      },
      "source": [
        "#droping displayed column because its irrelevant\n",
        "car.drop([\"Displayed comment\"],axis=1,inplace=True)"
      ],
      "execution_count": 0,
      "outputs": []
    },
    {
      "cell_type": "code",
      "metadata": {
        "id": "I4vChLMjHbrA",
        "colab_type": "code",
        "colab": {}
      },
      "source": [
        "#droping Unnamed: 0 column because that index is not necessary\n",
        "car.drop(\"Unnamed: 0\",axis=1,inplace=True)"
      ],
      "execution_count": 0,
      "outputs": []
    },
    {
      "cell_type": "code",
      "metadata": {
        "id": "9ylYGlhxIyZ2",
        "colab_type": "code",
        "outputId": "4dbf2ad2-237c-46e7-a84f-62a55a72550e",
        "colab": {
          "base_uri": "https://localhost:8080/",
          "height": 118
        }
      },
      "source": [
        "car.columns.values"
      ],
      "execution_count": 0,
      "outputs": [
        {
          "output_type": "execute_result",
          "data": {
            "text/plain": [
              "array(['Address', 'Cars', 'Bluecar counter', 'Utilib counter',\n",
              "       'Utilib 1.4 counter', 'Charge Slots', 'Charging Status', 'City',\n",
              "       'ID', 'Kind', 'Geo point', 'Postal code', 'Public name',\n",
              "       'Rental status', 'Scheduled at', 'Slots', 'Station type', 'Status',\n",
              "       'Subscription status', 'year', 'month', 'day', 'hour', 'minute'],\n",
              "      dtype=object)"
            ]
          },
          "metadata": {
            "tags": []
          },
          "execution_count": 86
        }
      ]
    },
    {
      "cell_type": "markdown",
      "metadata": {
        "id": "Bs8H-PYsI-P2",
        "colab_type": "text"
      },
      "source": [
        "## *Accuracy*"
      ]
    },
    {
      "cell_type": "code",
      "metadata": {
        "id": "04prrbl0JJiX",
        "colab_type": "code",
        "outputId": "080727da-97b7-4ec6-9590-89f7471dbce7",
        "colab": {
          "base_uri": "https://localhost:8080/",
          "height": 93
        }
      },
      "source": [
        "#confirming whether it is actually true that its true blue car is equal to car\n",
        "car[ ~(car['Cars'] == car['Bluecar counter'])]"
      ],
      "execution_count": 0,
      "outputs": [
        {
          "output_type": "execute_result",
          "data": {
            "text/plain": [
              "Empty DataFrame\n",
              "Columns: [Address, Cars, Bluecar counter, Utilib counter, Utilib 1.4 counter, Charge Slots, Charging Status, City, ID, Kind, Geo point, Postal code, Public name, Rental status, Scheduled at, Slots, Station type, Status, Subscription status, year, month, day, hour, minute]\n",
              "Index: []\n",
              "\n",
              "[0 rows x 24 columns]"
            ],
            "text/html": [
              "<div>\n",
              "<style scoped>\n",
              "    .dataframe tbody tr th:only-of-type {\n",
              "        vertical-align: middle;\n",
              "    }\n",
              "\n",
              "    .dataframe tbody tr th {\n",
              "        vertical-align: top;\n",
              "    }\n",
              "\n",
              "    .dataframe thead th {\n",
              "        text-align: right;\n",
              "    }\n",
              "</style>\n",
              "<table border=\"1\" class=\"dataframe\">\n",
              "  <thead>\n",
              "    <tr style=\"text-align: right;\">\n",
              "      <th></th>\n",
              "      <th>Address</th>\n",
              "      <th>Cars</th>\n",
              "      <th>Bluecar counter</th>\n",
              "      <th>Utilib counter</th>\n",
              "      <th>Utilib 1.4 counter</th>\n",
              "      <th>Charge Slots</th>\n",
              "      <th>Charging Status</th>\n",
              "      <th>City</th>\n",
              "      <th>ID</th>\n",
              "      <th>Kind</th>\n",
              "      <th>...</th>\n",
              "      <th>Scheduled at</th>\n",
              "      <th>Slots</th>\n",
              "      <th>Station type</th>\n",
              "      <th>Status</th>\n",
              "      <th>Subscription status</th>\n",
              "      <th>year</th>\n",
              "      <th>month</th>\n",
              "      <th>day</th>\n",
              "      <th>hour</th>\n",
              "      <th>minute</th>\n",
              "    </tr>\n",
              "  </thead>\n",
              "  <tbody>\n",
              "  </tbody>\n",
              "</table>\n",
              "<p>0 rows × 24 columns</p>\n",
              "</div>"
            ]
          },
          "metadata": {
            "tags": []
          },
          "execution_count": 87
        }
      ]
    },
    {
      "cell_type": "code",
      "metadata": {
        "id": "xjNla9rLPCz_",
        "colab_type": "code",
        "colab": {}
      },
      "source": [
        "car.drop('Cars',axis=1,inplace=True)"
      ],
      "execution_count": 0,
      "outputs": []
    },
    {
      "cell_type": "code",
      "metadata": {
        "id": "pSIbQfZCPPmm",
        "colab_type": "code",
        "outputId": "a76a4171-1593-4656-bb05-b846c2e3effe",
        "colab": {
          "base_uri": "https://localhost:8080/",
          "height": 118
        }
      },
      "source": [
        "car.columns.values"
      ],
      "execution_count": 0,
      "outputs": [
        {
          "output_type": "execute_result",
          "data": {
            "text/plain": [
              "array(['Address', 'Bluecar counter', 'Utilib counter',\n",
              "       'Utilib 1.4 counter', 'Charge Slots', 'Charging Status', 'City',\n",
              "       'ID', 'Kind', 'Geo point', 'Postal code', 'Public name',\n",
              "       'Rental status', 'Scheduled at', 'Slots', 'Station type', 'Status',\n",
              "       'Subscription status', 'year', 'month', 'day', 'hour', 'minute'],\n",
              "      dtype=object)"
            ]
          },
          "metadata": {
            "tags": []
          },
          "execution_count": 89
        }
      ]
    },
    {
      "cell_type": "markdown",
      "metadata": {
        "id": "Ys6I3aDkPeJb",
        "colab_type": "text"
      },
      "source": [
        "##*Completeness* "
      ]
    },
    {
      "cell_type": "code",
      "metadata": {
        "id": "_xt3ctOUPl8y",
        "colab_type": "code",
        "outputId": "44c7d16d-e5e1-46f4-a0ce-1470c4193128",
        "colab": {
          "base_uri": "https://localhost:8080/",
          "height": 420
        }
      },
      "source": [
        "#checking for null values\n",
        "car.isnull().sum()"
      ],
      "execution_count": 0,
      "outputs": [
        {
          "output_type": "execute_result",
          "data": {
            "text/plain": [
              "Address                       0\n",
              "Bluecar counter               0\n",
              "Utilib counter                0\n",
              "Utilib 1.4 counter            0\n",
              "Charge Slots                  0\n",
              "Charging Status               0\n",
              "City                          0\n",
              "ID                            0\n",
              "Kind                          0\n",
              "Geo point                     0\n",
              "Postal code                   0\n",
              "Public name                   0\n",
              "Rental status                 0\n",
              "Scheduled at           14310213\n",
              "Slots                         0\n",
              "Station type                  0\n",
              "Status                        0\n",
              "Subscription status           0\n",
              "year                          0\n",
              "month                         0\n",
              "day                           0\n",
              "hour                          0\n",
              "minute                        0\n",
              "dtype: int64"
            ]
          },
          "metadata": {
            "tags": []
          },
          "execution_count": 90
        }
      ]
    },
    {
      "cell_type": "code",
      "metadata": {
        "id": "BErRYQFpRVoP",
        "colab_type": "code",
        "colab": {}
      },
      "source": [
        "# we fill the scheduled at with zero\n",
        "car['Scheduled at'].fillna(0,inplace=True)"
      ],
      "execution_count": 0,
      "outputs": []
    },
    {
      "cell_type": "code",
      "metadata": {
        "id": "BbPKbLYyR46L",
        "colab_type": "code",
        "outputId": "ebfd745e-7dbc-4569-ea98-48c7f1142756",
        "colab": {
          "base_uri": "https://localhost:8080/",
          "height": 420
        }
      },
      "source": [
        "#checking whether the null values are filled\n",
        "car.isnull().sum()"
      ],
      "execution_count": 0,
      "outputs": [
        {
          "output_type": "execute_result",
          "data": {
            "text/plain": [
              "Address                0\n",
              "Bluecar counter        0\n",
              "Utilib counter         0\n",
              "Utilib 1.4 counter     0\n",
              "Charge Slots           0\n",
              "Charging Status        0\n",
              "City                   0\n",
              "ID                     0\n",
              "Kind                   0\n",
              "Geo point              0\n",
              "Postal code            0\n",
              "Public name            0\n",
              "Rental status          0\n",
              "Scheduled at           0\n",
              "Slots                  0\n",
              "Station type           0\n",
              "Status                 0\n",
              "Subscription status    0\n",
              "year                   0\n",
              "month                  0\n",
              "day                    0\n",
              "hour                   0\n",
              "minute                 0\n",
              "dtype: int64"
            ]
          },
          "metadata": {
            "tags": []
          },
          "execution_count": 92
        }
      ]
    },
    {
      "cell_type": "markdown",
      "metadata": {
        "id": "qeH6I1ouSSuw",
        "colab_type": "text"
      },
      "source": [
        "##*Consistency*"
      ]
    },
    {
      "cell_type": "code",
      "metadata": {
        "id": "6hY2OPCiSLNc",
        "colab_type": "code",
        "outputId": "de781c4e-f22f-40c3-a0f3-b727f7bb3681",
        "colab": {
          "base_uri": "https://localhost:8080/",
          "height": 1000
        }
      },
      "source": [
        "#confirming whether the are duplicates\n",
        "car[car.duplicated()]"
      ],
      "execution_count": 0,
      "outputs": [
        {
          "output_type": "execute_result",
          "data": {
            "text/plain": [
              "                                    Address  Bluecar counter  Utilib counter  \\\n",
              "1119                      43 Rue de Monceau                0               0   \n",
              "1120                 330 rue des PyrÃ©nÃ©es                2               0   \n",
              "1121      28 Avenue de la Porte de Villiers                2               0   \n",
              "1122                    97 Rue de Charenton                1               0   \n",
              "1123              17 boulevard Saint-Martin                2               0   \n",
              "1124            1 rue du PrÃ© Saint Gervais                0               0   \n",
              "1125                         118 rue Houdan                5               0   \n",
              "1126           1 rue des Nonnains d'HyÃ¨res                0               0   \n",
              "1127                    55 avenue de SÃ©gur                0               0   \n",
              "1128           12 Rue Francis de PressensÃ©                3               0   \n",
              "1129                 7 boulevard d'AlgÃ©rie                0               0   \n",
              "1130          192 avenue Pierre Brossolette                1               0   \n",
              "1258                   41 Boulevard Bourdon                1               0   \n",
              "1505                     17 Rue Ãmile Zola                4               0   \n",
              "1510                    3 Avenue de la Gare                5               0   \n",
              "1515                         7 Avenue Audra                5               1   \n",
              "1741                     124 avenue Pasteur                2               0   \n",
              "1757                    188 avenue de Paris                0               0   \n",
              "1846             27 boulevard de Stalingrad                2               0   \n",
              "2026                       8 rue de CrimÃ©e                2               0   \n",
              "3377                 42 avenue de Friedland                0               0   \n",
              "3378                       178 Rue Lecourbe                2               0   \n",
              "3379              31 Boulevard Rochechouart                1               1   \n",
              "3380                    1 Rue RenÃ© Jacques                3               0   \n",
              "3381                     1 rue de Schomberg                1               0   \n",
              "3382             47 boulevard de l'HÃ´pital                2               0   \n",
              "3383                34 Rue Antoine Fratacci                5               0   \n",
              "3384                  16 rue Raoul Nordling                4               0   \n",
              "3385                    3 rue Gabriel PÃ©ri                6               0   \n",
              "3386                   199 avenue Daumesnil                1               1   \n",
              "...                                     ...              ...             ...   \n",
              "14419561                  81 Avenue Bosquet                1               0   \n",
              "14419562                41 avenue de Verdun                5               0   \n",
              "14419563                 2 rue de Martignac                0               0   \n",
              "14419564           1 Place Georges Pompidou                3               0   \n",
              "14419565                  1 rue Jean Monnet                5               0   \n",
              "14419835                     18 Rue PerrÃ©e                0               0   \n",
              "14419838            17 Avenue Louis Pasteur                4               0   \n",
              "14419923                 2 Rue Marcel Monge                3               0   \n",
              "14419986   16 Rue du Faubourg Saint-Antoine                0               0   \n",
              "14420171            66 rue de la JonquiÃ¨re                4               0   \n",
              "14420175         2 rue du GÃ©nÃ©ral Renault                4               0   \n",
              "14420206              44 avenue de la Marne                3               0   \n",
              "14420245             10 Rue Anizan Cavillon                0               0   \n",
              "14420365                 44 rue de Fontenay                1               0   \n",
              "14420525              155 bis rue de Rennes                0               0   \n",
              "14420602              2 rue Pierre Renaudel                5               0   \n",
              "14421815                   6 rue GuÃ©briant                5               0   \n",
              "14421816                17 rue Caulaincourt                3               0   \n",
              "14421817       50 Boulevard Auguste Blanqui                3               0   \n",
              "14421818     49 Rue Paul Vaillant Couturier                5               0   \n",
              "14421819                       4 rue Turgot                0               0   \n",
              "14421820              31 boulevard National                0               0   \n",
              "14421821          125 bis avenue Parmentier                0               0   \n",
              "14421822                       8 rue Danton                0               0   \n",
              "14421823                 30 Rue RenÃ© Hamon                5               0   \n",
              "14421824                2 rue Paul CÃ©zanne                2               0   \n",
              "14421825                8 rue Louise Michel                3               0   \n",
              "14421826            3 rue Olivier de Serres                5               0   \n",
              "14421827   11 avenue du GÃ©nÃ©ral De Gaulle                0               0   \n",
              "14421828              1 rue AndrÃ© Theuriet                1               0   \n",
              "\n",
              "          Utilib 1.4 counter  Charge Slots Charging Status  \\\n",
              "1119                       0             2     operational   \n",
              "1120                       0             1     operational   \n",
              "1121                       0             1     operational   \n",
              "1122                       0             0     operational   \n",
              "1123                       0             0     nonexistent   \n",
              "1124                       0             0     nonexistent   \n",
              "1125                       0             0     operational   \n",
              "1126                       0             1     operational   \n",
              "1127                       0             2     operational   \n",
              "1128                       1             0     nonexistent   \n",
              "1129                       0             0     nonexistent   \n",
              "1130                       0             0     nonexistent   \n",
              "1258                       1             0     nonexistent   \n",
              "1505                       1             0     nonexistent   \n",
              "1510                       0             0     nonexistent   \n",
              "1515                       0             0     nonexistent   \n",
              "1741                       0             0     nonexistent   \n",
              "1757                       0             0     nonexistent   \n",
              "1846                       0             0     nonexistent   \n",
              "2026                       0             0     nonexistent   \n",
              "3377                       0             0     nonexistent   \n",
              "3378                       0             1     operational   \n",
              "3379                       1             0     operational   \n",
              "3380                       0             1     operational   \n",
              "3381                       0             2     operational   \n",
              "3382                       1             0     operational   \n",
              "3383                       0             0     nonexistent   \n",
              "3384                       1             0     nonexistent   \n",
              "3385                       0             0     nonexistent   \n",
              "3386                       1             0     nonexistent   \n",
              "...                      ...           ...             ...   \n",
              "14419561                   0             1     operational   \n",
              "14419562                   1             0     nonexistent   \n",
              "14419563                   0             1     operational   \n",
              "14419564                   0             0     nonexistent   \n",
              "14419565                   1             0     nonexistent   \n",
              "14419835                   0             0          broken   \n",
              "14419838                   1             0     nonexistent   \n",
              "14419923                   0             1     operational   \n",
              "14419986                   0             0          broken   \n",
              "14420171                   0             1     operational   \n",
              "14420175                   0             0     nonexistent   \n",
              "14420206                   0             0     nonexistent   \n",
              "14420245                   0             0     nonexistent   \n",
              "14420365                   0             0     nonexistent   \n",
              "14420525                   0             0     nonexistent   \n",
              "14420602                   0             0     nonexistent   \n",
              "14421815                   0             0     operational   \n",
              "14421816                   0             0     nonexistent   \n",
              "14421817                   0             0     nonexistent   \n",
              "14421818                   0             0     nonexistent   \n",
              "14421819                   0             0          broken   \n",
              "14421820                   0             0     nonexistent   \n",
              "14421821                   0             1     operational   \n",
              "14421822                   0             2     operational   \n",
              "14421823                   0             0     nonexistent   \n",
              "14421824                   0             0     nonexistent   \n",
              "14421825                   0             0     nonexistent   \n",
              "14421826                   0             0     operational   \n",
              "14421827                   0             0     nonexistent   \n",
              "14421828                   0             0     nonexistent   \n",
              "\n",
              "                         City                                    ID     Kind  \\\n",
              "1119                    Paris                      paris-monceau-43  STATION   \n",
              "1120                    Paris                    paris-pyrenees-330    SPACE   \n",
              "1121                    Paris              paris-portedevilliers-28  STATION   \n",
              "1122                    Paris                    paris-charenton-97  STATION   \n",
              "1123                    Paris                  paris-saintmartin-17  STATION   \n",
              "1124                   Pantin              pantin-presaintgervais-1    SPACE   \n",
              "1125                   Sceaux                     sceaux-houdan-118  STATION   \n",
              "1126                    Paris               paris-nonnainsdhyeres-1  STATION   \n",
              "1127                    Paris                        paris-segur-55  STATION   \n",
              "1128                  Puteaux         puteaux-francisdepressense-12  STATION   \n",
              "1129                    Paris                       paris-algerie-7  STATION   \n",
              "1130                 Malakoff        malakoff-pierrebrossolette-192  STATION   \n",
              "1258                    Paris                      paris-bourdon-41    SPACE   \n",
              "1505      AsniÃ¨res-sur-Seine         asnieressurseine-emilezola-17  STATION   \n",
              "1510                   Sceaux                         sceaux-gare-3    SPACE   \n",
              "1515                 Colombes                      colombes-audra-7  STATION   \n",
              "1741                 Bagnolet                  bagnolet-pasteur-124  STATION   \n",
              "1757               ChÃ¢tillon                chatillon-stalingrad-5  STATION   \n",
              "1846                 Malakoff                malakoff-stalingrad-27  STATION   \n",
              "2026                    Paris                        paris-crimee-8  STATION   \n",
              "3377                    Paris                    paris-friedland-42  STATION   \n",
              "3378                    Paris                    paris-lecourbe-178  STATION   \n",
              "3379                    Paris                 paris-rochechouart-31  STATION   \n",
              "3380      Issy-les-Moulineaux       issylesmoulineaux-renejacques-1  STATION   \n",
              "3381                    Paris                     paris-schomberg-1  STATION   \n",
              "3382                    Paris                      paris-hopital-47  STATION   \n",
              "3383                   Vanves             vanves-antoinefratacci-34  STATION   \n",
              "3384            Bois-Colombes         boiscolombes-raoulnordling-16  STATION   \n",
              "3385              Saint-Denis              saintdenis-gabrielperi-3  STATION   \n",
              "3386                    Paris                   paris-daumesnil-199  STATION   \n",
              "...                       ...                                   ...      ...   \n",
              "14419561                Paris                      paris-bosquet-81  STATION   \n",
              "14419562  La Garenne-Colombes           lagarennecolombes-verdun-41  STATION   \n",
              "14419563                Paris                     paris-martignac-2  STATION   \n",
              "14419564     Levallois-Perret      levalloisperret-pompidou-parking  PARKING   \n",
              "14419565     Nogent-sur-Marne           nogentsurmarne-jeanmonnet-1    SPACE   \n",
              "14419835                Paris                       paris-perree-18  STATION   \n",
              "14419838              Bagneux               bagneux-louispasteur-17  STATION   \n",
              "14419923             Suresnes                suresnes-marcelmonge-2  STATION   \n",
              "14419986                Paris                 paris-saintantoine-16  STATION   \n",
              "14420171                Paris                    paris-jonquiere-66  STATION   \n",
              "14420175                Paris                       paris-renault-2  STATION   \n",
              "14420206  AsniÃ¨res-sur-Seine             asnieressurseine-marne-44  STATION   \n",
              "14420245           Le Bourget           lebourget-anizancavillon-10    SPACE   \n",
              "14420365            Vincennes                 vincennes-fontenay-44  STATION   \n",
              "14420525                Paris      paris-rennesmontparnasse-parking  PARKING   \n",
              "14420602  Champigny-sur-Marne    champignysurmarne-pierrerenaudel-2    SPACE   \n",
              "14421815                Paris                     paris-guebriant-6  STATION   \n",
              "14421816                Paris                 paris-caulaincourt-17  STATION   \n",
              "14421817                Paris               paris-augusteblanqui-50  STATION   \n",
              "14421818             Malakoff     malakoff-paulvaillantcouturier-49  STATION   \n",
              "14421819                Paris                        paris-turgot-4  STATION   \n",
              "14421820  La Garenne-Colombes         lagarennecolombes-national-31  STATION   \n",
              "14421821                Paris                  paris-parmentier-125  STATION   \n",
              "14421822                Paris                        paris-danton-8  STATION   \n",
              "14421823            Villejuif                villejuif-renehamon-30  STATION   \n",
              "14421824    Neuilly-Plaisance        neuillyplaisance-paulcezanne-2    SPACE   \n",
              "14421825     Levallois-Perret  levalloisperret-louisemichel-parking  PARKING   \n",
              "14421826                Paris               paris-olivierdeserres-3  STATION   \n",
              "14421827               Antony                    antony-degaulle-11  STATION   \n",
              "14421828       Bourg-la-Reine          bourglareine-andretheuriet-1    SPACE   \n",
              "\n",
              "                      Geo point  ...  Scheduled at Slots  Station type  \\\n",
              "1119       48.8778333, 2.310832  ...             0     6       station   \n",
              "1120      48.8732135, 2.3903853  ...             0     3  full_station   \n",
              "1121      48.8854246, 2.2849721  ...             0     4       station   \n",
              "1122       48.8476733, 2.377312  ...             0     2       station   \n",
              "1123       48.8681421, 2.360276  ...             0     1       station   \n",
              "1124       48.890711, 2.4030061  ...             0     0  full_station   \n",
              "1125       48.779037, 2.2891934  ...             0     0       station   \n",
              "1126         48.85378, 2.358089  ...             0     5       station   \n",
              "1127      48.8492973, 2.3077697  ...             0     6       station   \n",
              "1128      48.8761876, 2.2361346  ...             0     0       station   \n",
              "1129      48.8799263, 2.4004487  ...             0     4       station   \n",
              "1130          48.8139, 2.302489  ...             0     4       station   \n",
              "1258      48.8524894, 2.3678127  ...             0     1  full_station   \n",
              "1505      48.9233235, 2.2853356  ...             0     1       station   \n",
              "1510      48.7793414, 2.2814988  ...             0     1  full_station   \n",
              "1515      48.9278206, 2.2530496  ...             0     0       station   \n",
              "1741         48.87608, 2.418952  ...             0     0       station   \n",
              "1757      48.8102855, 2.2995297  ...             0     4       station   \n",
              "1846      48.8142269, 2.2878426  ...             0     5       station   \n",
              "2026      48.8777109, 2.3916371  ...             0     2       station   \n",
              "3377      48.8741642, 2.2976358  ...             0     3       station   \n",
              "3378      48.8412037, 2.2977543  ...             0     1       station   \n",
              "3379      48.8829733, 2.3454871  ...             0     1       station   \n",
              "3380      48.8238961, 2.2621859  ...             0     1       station   \n",
              "3381         48.84925, 2.362993  ...             0     5       station   \n",
              "3382         48.84019, 2.362478  ...             0     0       station   \n",
              "3383          48.82101, 2.28876  ...             0     1       station   \n",
              "3384         48.90487, 2.264084  ...             0     1       station   \n",
              "3385      48.9309502, 2.3561967  ...             0     1       station   \n",
              "3386       48.839307, 2.3971468  ...             0     1       station   \n",
              "...                         ...  ...           ...   ...           ...   \n",
              "14419561   48.8553541, 2.305473  ...             0     3       station   \n",
              "14419562     48.90387, 2.230934  ...             0     0       station   \n",
              "14419563  48.8593659, 2.3195393  ...             0     5       station   \n",
              "14419564      48.89851, 2.28102  ...             0     0       station   \n",
              "14419565  48.8383861, 2.4934423  ...             0     0  full_station   \n",
              "14419835     48.86502, 2.360503  ...             0     3       station   \n",
              "14419838  48.7991008, 2.3177148  ...             0     1       station   \n",
              "14419923     48.86121, 2.224382  ...             0     2       station   \n",
              "14419986  48.8526773, 2.3710901  ...             0     0       station   \n",
              "14420171  48.8941653, 2.3211581  ...             0     2       station   \n",
              "14420175  48.8611413, 2.3781941  ...             0     1       station   \n",
              "14420206  48.9073637, 2.2830507  ...             0     0       station   \n",
              "14420245   48.9350451, 2.424831  ...             0     0  full_station   \n",
              "14420365      48.84779, 2.44345  ...             0     1       station   \n",
              "14420525      48.84513, 2.32524  ...             0     0       station   \n",
              "14420602   48.813519, 2.5091593  ...             0     0  full_station   \n",
              "14421815  48.8730881, 2.4092069  ...             0     0       station   \n",
              "14421816  48.8872522, 2.3330069  ...             0     0       station   \n",
              "14421817  48.8299453, 2.3499186  ...             0     1       station   \n",
              "14421818  48.8137426, 2.2959516  ...             0     0       station   \n",
              "14421819  48.8800786, 2.3455235  ...             0     0       station   \n",
              "14421820     48.90347, 2.239274  ...             0     0       station   \n",
              "14421821   48.8690795, 2.371679  ...             0     5       station   \n",
              "14421822     48.85262, 2.342107  ...             0     5       station   \n",
              "14421823  48.7906029, 2.3613621  ...             0     1       station   \n",
              "14421824     48.85206, 2.514694  ...             0     3  full_station   \n",
              "14421825      48.88718, 2.28447  ...             0     2       station   \n",
              "14421826  48.8370178, 2.2986736  ...             0     1       station   \n",
              "14421827     48.76307, 2.306646  ...             0     5       station   \n",
              "14421828  48.7797297, 2.3131491  ...             0     4  full_station   \n",
              "\n",
              "          Status  Subscription status  year month day  hour  minute  \n",
              "1119          ok          nonexistent  2018     4   1     0       0  \n",
              "1120          ok          operational  2018     4   1     0       0  \n",
              "1121          ok          nonexistent  2018     4   1     0       0  \n",
              "1122          ok          nonexistent  2018     4   1     0       0  \n",
              "1123          ok          nonexistent  2018     4   1     0       0  \n",
              "1124      closed          nonexistent  2018     4   1     0       0  \n",
              "1125          ok          nonexistent  2018     4   1     0       0  \n",
              "1126          ok          nonexistent  2018     4   1     0       0  \n",
              "1127          ok          nonexistent  2018     4   1     0       0  \n",
              "1128          ok          nonexistent  2018     4   1     0       0  \n",
              "1129          ok          nonexistent  2018     4   1     0       0  \n",
              "1130          ok          nonexistent  2018     4   1     0       0  \n",
              "1258          ok          operational  2018     4   1     0       1  \n",
              "1505          ok          nonexistent  2018     4   1     0       1  \n",
              "1510          ok          operational  2018     4   1     0       1  \n",
              "1515          ok          nonexistent  2018     4   1     0       1  \n",
              "1741          ok          nonexistent  2018     4   1     0       1  \n",
              "1757          ok          nonexistent  2018     4   1     0       1  \n",
              "1846          ok          nonexistent  2018     4   1     0       1  \n",
              "2026          ok          nonexistent  2018     4   1     0       1  \n",
              "3377          ok          nonexistent  2018     4   1     0       2  \n",
              "3378          ok          nonexistent  2018     4   1     0       2  \n",
              "3379          ok          nonexistent  2018     4   1     0       2  \n",
              "3380          ok          nonexistent  2018     4   1     0       2  \n",
              "3381          ok          nonexistent  2018     4   1     0       2  \n",
              "3382          ok          nonexistent  2018     4   1     0       2  \n",
              "3383          ok          nonexistent  2018     4   1     0       2  \n",
              "3384          ok          nonexistent  2018     4   1     0       2  \n",
              "3385          ok          nonexistent  2018     4   1     0       2  \n",
              "3386          ok          nonexistent  2018     4   1     0       2  \n",
              "...          ...                  ...   ...   ...  ..   ...     ...  \n",
              "14419561      ok          nonexistent  2018     4   9    23      57  \n",
              "14419562      ok          nonexistent  2018     4   9    23      57  \n",
              "14419563      ok          nonexistent  2018     4   9    23      57  \n",
              "14419564      ok          nonexistent  2018     4   9    23      57  \n",
              "14419565      ok               broken  2018     4   9    23      57  \n",
              "14419835      ok          nonexistent  2018     4   9    23      58  \n",
              "14419838      ok          nonexistent  2018     4   9    23      58  \n",
              "14419923      ok          nonexistent  2018     4   9    23      58  \n",
              "14419986  closed          nonexistent  2018     4   9    23      58  \n",
              "14420171      ok          nonexistent  2018     4   9    23      58  \n",
              "14420175      ok          nonexistent  2018     4   9    23      58  \n",
              "14420206      ok          nonexistent  2018     4   9    23      58  \n",
              "14420245  closed               broken  2018     4   9    23      58  \n",
              "14420365      ok          nonexistent  2018     4   9    23      58  \n",
              "14420525  closed          nonexistent  2018     4   9    23      58  \n",
              "14420602      ok          operational  2018     4   9    23      58  \n",
              "14421815      ok          nonexistent  2018     4   9    23      59  \n",
              "14421816      ok          nonexistent  2018     4   9    23      59  \n",
              "14421817      ok          nonexistent  2018     4   9    23      59  \n",
              "14421818      ok          nonexistent  2018     4   9    23      59  \n",
              "14421819  closed          nonexistent  2018     4   9    23      59  \n",
              "14421820  closed          nonexistent  2018     4   9    23      59  \n",
              "14421821      ok          nonexistent  2018     4   9    23      59  \n",
              "14421822      ok          nonexistent  2018     4   9    23      59  \n",
              "14421823      ok          nonexistent  2018     4   9    23      59  \n",
              "14421824      ok          operational  2018     4   9    23      59  \n",
              "14421825      ok          nonexistent  2018     4   9    23      59  \n",
              "14421826      ok          nonexistent  2018     4   9    23      59  \n",
              "14421827      ok               broken  2018     4   9    23      59  \n",
              "14421828      ok          operational  2018     4   9    23      59  \n",
              "\n",
              "[142890 rows x 23 columns]"
            ],
            "text/html": [
              "<div>\n",
              "<style scoped>\n",
              "    .dataframe tbody tr th:only-of-type {\n",
              "        vertical-align: middle;\n",
              "    }\n",
              "\n",
              "    .dataframe tbody tr th {\n",
              "        vertical-align: top;\n",
              "    }\n",
              "\n",
              "    .dataframe thead th {\n",
              "        text-align: right;\n",
              "    }\n",
              "</style>\n",
              "<table border=\"1\" class=\"dataframe\">\n",
              "  <thead>\n",
              "    <tr style=\"text-align: right;\">\n",
              "      <th></th>\n",
              "      <th>Address</th>\n",
              "      <th>Bluecar counter</th>\n",
              "      <th>Utilib counter</th>\n",
              "      <th>Utilib 1.4 counter</th>\n",
              "      <th>Charge Slots</th>\n",
              "      <th>Charging Status</th>\n",
              "      <th>City</th>\n",
              "      <th>ID</th>\n",
              "      <th>Kind</th>\n",
              "      <th>Geo point</th>\n",
              "      <th>...</th>\n",
              "      <th>Scheduled at</th>\n",
              "      <th>Slots</th>\n",
              "      <th>Station type</th>\n",
              "      <th>Status</th>\n",
              "      <th>Subscription status</th>\n",
              "      <th>year</th>\n",
              "      <th>month</th>\n",
              "      <th>day</th>\n",
              "      <th>hour</th>\n",
              "      <th>minute</th>\n",
              "    </tr>\n",
              "  </thead>\n",
              "  <tbody>\n",
              "    <tr>\n",
              "      <th>1119</th>\n",
              "      <td>43 Rue de Monceau</td>\n",
              "      <td>0</td>\n",
              "      <td>0</td>\n",
              "      <td>0</td>\n",
              "      <td>2</td>\n",
              "      <td>operational</td>\n",
              "      <td>Paris</td>\n",
              "      <td>paris-monceau-43</td>\n",
              "      <td>STATION</td>\n",
              "      <td>48.8778333, 2.310832</td>\n",
              "      <td>...</td>\n",
              "      <td>0</td>\n",
              "      <td>6</td>\n",
              "      <td>station</td>\n",
              "      <td>ok</td>\n",
              "      <td>nonexistent</td>\n",
              "      <td>2018</td>\n",
              "      <td>4</td>\n",
              "      <td>1</td>\n",
              "      <td>0</td>\n",
              "      <td>0</td>\n",
              "    </tr>\n",
              "    <tr>\n",
              "      <th>1120</th>\n",
              "      <td>330 rue des PyrÃ©nÃ©es</td>\n",
              "      <td>2</td>\n",
              "      <td>0</td>\n",
              "      <td>0</td>\n",
              "      <td>1</td>\n",
              "      <td>operational</td>\n",
              "      <td>Paris</td>\n",
              "      <td>paris-pyrenees-330</td>\n",
              "      <td>SPACE</td>\n",
              "      <td>48.8732135, 2.3903853</td>\n",
              "      <td>...</td>\n",
              "      <td>0</td>\n",
              "      <td>3</td>\n",
              "      <td>full_station</td>\n",
              "      <td>ok</td>\n",
              "      <td>operational</td>\n",
              "      <td>2018</td>\n",
              "      <td>4</td>\n",
              "      <td>1</td>\n",
              "      <td>0</td>\n",
              "      <td>0</td>\n",
              "    </tr>\n",
              "    <tr>\n",
              "      <th>1121</th>\n",
              "      <td>28 Avenue de la Porte de Villiers</td>\n",
              "      <td>2</td>\n",
              "      <td>0</td>\n",
              "      <td>0</td>\n",
              "      <td>1</td>\n",
              "      <td>operational</td>\n",
              "      <td>Paris</td>\n",
              "      <td>paris-portedevilliers-28</td>\n",
              "      <td>STATION</td>\n",
              "      <td>48.8854246, 2.2849721</td>\n",
              "      <td>...</td>\n",
              "      <td>0</td>\n",
              "      <td>4</td>\n",
              "      <td>station</td>\n",
              "      <td>ok</td>\n",
              "      <td>nonexistent</td>\n",
              "      <td>2018</td>\n",
              "      <td>4</td>\n",
              "      <td>1</td>\n",
              "      <td>0</td>\n",
              "      <td>0</td>\n",
              "    </tr>\n",
              "    <tr>\n",
              "      <th>1122</th>\n",
              "      <td>97 Rue de Charenton</td>\n",
              "      <td>1</td>\n",
              "      <td>0</td>\n",
              "      <td>0</td>\n",
              "      <td>0</td>\n",
              "      <td>operational</td>\n",
              "      <td>Paris</td>\n",
              "      <td>paris-charenton-97</td>\n",
              "      <td>STATION</td>\n",
              "      <td>48.8476733, 2.377312</td>\n",
              "      <td>...</td>\n",
              "      <td>0</td>\n",
              "      <td>2</td>\n",
              "      <td>station</td>\n",
              "      <td>ok</td>\n",
              "      <td>nonexistent</td>\n",
              "      <td>2018</td>\n",
              "      <td>4</td>\n",
              "      <td>1</td>\n",
              "      <td>0</td>\n",
              "      <td>0</td>\n",
              "    </tr>\n",
              "    <tr>\n",
              "      <th>1123</th>\n",
              "      <td>17 boulevard Saint-Martin</td>\n",
              "      <td>2</td>\n",
              "      <td>0</td>\n",
              "      <td>0</td>\n",
              "      <td>0</td>\n",
              "      <td>nonexistent</td>\n",
              "      <td>Paris</td>\n",
              "      <td>paris-saintmartin-17</td>\n",
              "      <td>STATION</td>\n",
              "      <td>48.8681421, 2.360276</td>\n",
              "      <td>...</td>\n",
              "      <td>0</td>\n",
              "      <td>1</td>\n",
              "      <td>station</td>\n",
              "      <td>ok</td>\n",
              "      <td>nonexistent</td>\n",
              "      <td>2018</td>\n",
              "      <td>4</td>\n",
              "      <td>1</td>\n",
              "      <td>0</td>\n",
              "      <td>0</td>\n",
              "    </tr>\n",
              "    <tr>\n",
              "      <th>1124</th>\n",
              "      <td>1 rue du PrÃ© Saint Gervais</td>\n",
              "      <td>0</td>\n",
              "      <td>0</td>\n",
              "      <td>0</td>\n",
              "      <td>0</td>\n",
              "      <td>nonexistent</td>\n",
              "      <td>Pantin</td>\n",
              "      <td>pantin-presaintgervais-1</td>\n",
              "      <td>SPACE</td>\n",
              "      <td>48.890711, 2.4030061</td>\n",
              "      <td>...</td>\n",
              "      <td>0</td>\n",
              "      <td>0</td>\n",
              "      <td>full_station</td>\n",
              "      <td>closed</td>\n",
              "      <td>nonexistent</td>\n",
              "      <td>2018</td>\n",
              "      <td>4</td>\n",
              "      <td>1</td>\n",
              "      <td>0</td>\n",
              "      <td>0</td>\n",
              "    </tr>\n",
              "    <tr>\n",
              "      <th>1125</th>\n",
              "      <td>118 rue Houdan</td>\n",
              "      <td>5</td>\n",
              "      <td>0</td>\n",
              "      <td>0</td>\n",
              "      <td>0</td>\n",
              "      <td>operational</td>\n",
              "      <td>Sceaux</td>\n",
              "      <td>sceaux-houdan-118</td>\n",
              "      <td>STATION</td>\n",
              "      <td>48.779037, 2.2891934</td>\n",
              "      <td>...</td>\n",
              "      <td>0</td>\n",
              "      <td>0</td>\n",
              "      <td>station</td>\n",
              "      <td>ok</td>\n",
              "      <td>nonexistent</td>\n",
              "      <td>2018</td>\n",
              "      <td>4</td>\n",
              "      <td>1</td>\n",
              "      <td>0</td>\n",
              "      <td>0</td>\n",
              "    </tr>\n",
              "    <tr>\n",
              "      <th>1126</th>\n",
              "      <td>1 rue des Nonnains d'HyÃ¨res</td>\n",
              "      <td>0</td>\n",
              "      <td>0</td>\n",
              "      <td>0</td>\n",
              "      <td>1</td>\n",
              "      <td>operational</td>\n",
              "      <td>Paris</td>\n",
              "      <td>paris-nonnainsdhyeres-1</td>\n",
              "      <td>STATION</td>\n",
              "      <td>48.85378, 2.358089</td>\n",
              "      <td>...</td>\n",
              "      <td>0</td>\n",
              "      <td>5</td>\n",
              "      <td>station</td>\n",
              "      <td>ok</td>\n",
              "      <td>nonexistent</td>\n",
              "      <td>2018</td>\n",
              "      <td>4</td>\n",
              "      <td>1</td>\n",
              "      <td>0</td>\n",
              "      <td>0</td>\n",
              "    </tr>\n",
              "    <tr>\n",
              "      <th>1127</th>\n",
              "      <td>55 avenue de SÃ©gur</td>\n",
              "      <td>0</td>\n",
              "      <td>0</td>\n",
              "      <td>0</td>\n",
              "      <td>2</td>\n",
              "      <td>operational</td>\n",
              "      <td>Paris</td>\n",
              "      <td>paris-segur-55</td>\n",
              "      <td>STATION</td>\n",
              "      <td>48.8492973, 2.3077697</td>\n",
              "      <td>...</td>\n",
              "      <td>0</td>\n",
              "      <td>6</td>\n",
              "      <td>station</td>\n",
              "      <td>ok</td>\n",
              "      <td>nonexistent</td>\n",
              "      <td>2018</td>\n",
              "      <td>4</td>\n",
              "      <td>1</td>\n",
              "      <td>0</td>\n",
              "      <td>0</td>\n",
              "    </tr>\n",
              "    <tr>\n",
              "      <th>1128</th>\n",
              "      <td>12 Rue Francis de PressensÃ©</td>\n",
              "      <td>3</td>\n",
              "      <td>0</td>\n",
              "      <td>1</td>\n",
              "      <td>0</td>\n",
              "      <td>nonexistent</td>\n",
              "      <td>Puteaux</td>\n",
              "      <td>puteaux-francisdepressense-12</td>\n",
              "      <td>STATION</td>\n",
              "      <td>48.8761876, 2.2361346</td>\n",
              "      <td>...</td>\n",
              "      <td>0</td>\n",
              "      <td>0</td>\n",
              "      <td>station</td>\n",
              "      <td>ok</td>\n",
              "      <td>nonexistent</td>\n",
              "      <td>2018</td>\n",
              "      <td>4</td>\n",
              "      <td>1</td>\n",
              "      <td>0</td>\n",
              "      <td>0</td>\n",
              "    </tr>\n",
              "    <tr>\n",
              "      <th>1129</th>\n",
              "      <td>7 boulevard d'AlgÃ©rie</td>\n",
              "      <td>0</td>\n",
              "      <td>0</td>\n",
              "      <td>0</td>\n",
              "      <td>0</td>\n",
              "      <td>nonexistent</td>\n",
              "      <td>Paris</td>\n",
              "      <td>paris-algerie-7</td>\n",
              "      <td>STATION</td>\n",
              "      <td>48.8799263, 2.4004487</td>\n",
              "      <td>...</td>\n",
              "      <td>0</td>\n",
              "      <td>4</td>\n",
              "      <td>station</td>\n",
              "      <td>ok</td>\n",
              "      <td>nonexistent</td>\n",
              "      <td>2018</td>\n",
              "      <td>4</td>\n",
              "      <td>1</td>\n",
              "      <td>0</td>\n",
              "      <td>0</td>\n",
              "    </tr>\n",
              "    <tr>\n",
              "      <th>1130</th>\n",
              "      <td>192 avenue Pierre Brossolette</td>\n",
              "      <td>1</td>\n",
              "      <td>0</td>\n",
              "      <td>0</td>\n",
              "      <td>0</td>\n",
              "      <td>nonexistent</td>\n",
              "      <td>Malakoff</td>\n",
              "      <td>malakoff-pierrebrossolette-192</td>\n",
              "      <td>STATION</td>\n",
              "      <td>48.8139, 2.302489</td>\n",
              "      <td>...</td>\n",
              "      <td>0</td>\n",
              "      <td>4</td>\n",
              "      <td>station</td>\n",
              "      <td>ok</td>\n",
              "      <td>nonexistent</td>\n",
              "      <td>2018</td>\n",
              "      <td>4</td>\n",
              "      <td>1</td>\n",
              "      <td>0</td>\n",
              "      <td>0</td>\n",
              "    </tr>\n",
              "    <tr>\n",
              "      <th>1258</th>\n",
              "      <td>41 Boulevard Bourdon</td>\n",
              "      <td>1</td>\n",
              "      <td>0</td>\n",
              "      <td>1</td>\n",
              "      <td>0</td>\n",
              "      <td>nonexistent</td>\n",
              "      <td>Paris</td>\n",
              "      <td>paris-bourdon-41</td>\n",
              "      <td>SPACE</td>\n",
              "      <td>48.8524894, 2.3678127</td>\n",
              "      <td>...</td>\n",
              "      <td>0</td>\n",
              "      <td>1</td>\n",
              "      <td>full_station</td>\n",
              "      <td>ok</td>\n",
              "      <td>operational</td>\n",
              "      <td>2018</td>\n",
              "      <td>4</td>\n",
              "      <td>1</td>\n",
              "      <td>0</td>\n",
              "      <td>1</td>\n",
              "    </tr>\n",
              "    <tr>\n",
              "      <th>1505</th>\n",
              "      <td>17 Rue Ãmile Zola</td>\n",
              "      <td>4</td>\n",
              "      <td>0</td>\n",
              "      <td>1</td>\n",
              "      <td>0</td>\n",
              "      <td>nonexistent</td>\n",
              "      <td>AsniÃ¨res-sur-Seine</td>\n",
              "      <td>asnieressurseine-emilezola-17</td>\n",
              "      <td>STATION</td>\n",
              "      <td>48.9233235, 2.2853356</td>\n",
              "      <td>...</td>\n",
              "      <td>0</td>\n",
              "      <td>1</td>\n",
              "      <td>station</td>\n",
              "      <td>ok</td>\n",
              "      <td>nonexistent</td>\n",
              "      <td>2018</td>\n",
              "      <td>4</td>\n",
              "      <td>1</td>\n",
              "      <td>0</td>\n",
              "      <td>1</td>\n",
              "    </tr>\n",
              "    <tr>\n",
              "      <th>1510</th>\n",
              "      <td>3 Avenue de la Gare</td>\n",
              "      <td>5</td>\n",
              "      <td>0</td>\n",
              "      <td>0</td>\n",
              "      <td>0</td>\n",
              "      <td>nonexistent</td>\n",
              "      <td>Sceaux</td>\n",
              "      <td>sceaux-gare-3</td>\n",
              "      <td>SPACE</td>\n",
              "      <td>48.7793414, 2.2814988</td>\n",
              "      <td>...</td>\n",
              "      <td>0</td>\n",
              "      <td>1</td>\n",
              "      <td>full_station</td>\n",
              "      <td>ok</td>\n",
              "      <td>operational</td>\n",
              "      <td>2018</td>\n",
              "      <td>4</td>\n",
              "      <td>1</td>\n",
              "      <td>0</td>\n",
              "      <td>1</td>\n",
              "    </tr>\n",
              "    <tr>\n",
              "      <th>1515</th>\n",
              "      <td>7 Avenue Audra</td>\n",
              "      <td>5</td>\n",
              "      <td>1</td>\n",
              "      <td>0</td>\n",
              "      <td>0</td>\n",
              "      <td>nonexistent</td>\n",
              "      <td>Colombes</td>\n",
              "      <td>colombes-audra-7</td>\n",
              "      <td>STATION</td>\n",
              "      <td>48.9278206, 2.2530496</td>\n",
              "      <td>...</td>\n",
              "      <td>0</td>\n",
              "      <td>0</td>\n",
              "      <td>station</td>\n",
              "      <td>ok</td>\n",
              "      <td>nonexistent</td>\n",
              "      <td>2018</td>\n",
              "      <td>4</td>\n",
              "      <td>1</td>\n",
              "      <td>0</td>\n",
              "      <td>1</td>\n",
              "    </tr>\n",
              "    <tr>\n",
              "      <th>1741</th>\n",
              "      <td>124 avenue Pasteur</td>\n",
              "      <td>2</td>\n",
              "      <td>0</td>\n",
              "      <td>0</td>\n",
              "      <td>0</td>\n",
              "      <td>nonexistent</td>\n",
              "      <td>Bagnolet</td>\n",
              "      <td>bagnolet-pasteur-124</td>\n",
              "      <td>STATION</td>\n",
              "      <td>48.87608, 2.418952</td>\n",
              "      <td>...</td>\n",
              "      <td>0</td>\n",
              "      <td>0</td>\n",
              "      <td>station</td>\n",
              "      <td>ok</td>\n",
              "      <td>nonexistent</td>\n",
              "      <td>2018</td>\n",
              "      <td>4</td>\n",
              "      <td>1</td>\n",
              "      <td>0</td>\n",
              "      <td>1</td>\n",
              "    </tr>\n",
              "    <tr>\n",
              "      <th>1757</th>\n",
              "      <td>188 avenue de Paris</td>\n",
              "      <td>0</td>\n",
              "      <td>0</td>\n",
              "      <td>0</td>\n",
              "      <td>0</td>\n",
              "      <td>nonexistent</td>\n",
              "      <td>ChÃ¢tillon</td>\n",
              "      <td>chatillon-stalingrad-5</td>\n",
              "      <td>STATION</td>\n",
              "      <td>48.8102855, 2.2995297</td>\n",
              "      <td>...</td>\n",
              "      <td>0</td>\n",
              "      <td>4</td>\n",
              "      <td>station</td>\n",
              "      <td>ok</td>\n",
              "      <td>nonexistent</td>\n",
              "      <td>2018</td>\n",
              "      <td>4</td>\n",
              "      <td>1</td>\n",
              "      <td>0</td>\n",
              "      <td>1</td>\n",
              "    </tr>\n",
              "    <tr>\n",
              "      <th>1846</th>\n",
              "      <td>27 boulevard de Stalingrad</td>\n",
              "      <td>2</td>\n",
              "      <td>0</td>\n",
              "      <td>0</td>\n",
              "      <td>0</td>\n",
              "      <td>nonexistent</td>\n",
              "      <td>Malakoff</td>\n",
              "      <td>malakoff-stalingrad-27</td>\n",
              "      <td>STATION</td>\n",
              "      <td>48.8142269, 2.2878426</td>\n",
              "      <td>...</td>\n",
              "      <td>0</td>\n",
              "      <td>5</td>\n",
              "      <td>station</td>\n",
              "      <td>ok</td>\n",
              "      <td>nonexistent</td>\n",
              "      <td>2018</td>\n",
              "      <td>4</td>\n",
              "      <td>1</td>\n",
              "      <td>0</td>\n",
              "      <td>1</td>\n",
              "    </tr>\n",
              "    <tr>\n",
              "      <th>2026</th>\n",
              "      <td>8 rue de CrimÃ©e</td>\n",
              "      <td>2</td>\n",
              "      <td>0</td>\n",
              "      <td>0</td>\n",
              "      <td>0</td>\n",
              "      <td>nonexistent</td>\n",
              "      <td>Paris</td>\n",
              "      <td>paris-crimee-8</td>\n",
              "      <td>STATION</td>\n",
              "      <td>48.8777109, 2.3916371</td>\n",
              "      <td>...</td>\n",
              "      <td>0</td>\n",
              "      <td>2</td>\n",
              "      <td>station</td>\n",
              "      <td>ok</td>\n",
              "      <td>nonexistent</td>\n",
              "      <td>2018</td>\n",
              "      <td>4</td>\n",
              "      <td>1</td>\n",
              "      <td>0</td>\n",
              "      <td>1</td>\n",
              "    </tr>\n",
              "    <tr>\n",
              "      <th>3377</th>\n",
              "      <td>42 avenue de Friedland</td>\n",
              "      <td>0</td>\n",
              "      <td>0</td>\n",
              "      <td>0</td>\n",
              "      <td>0</td>\n",
              "      <td>nonexistent</td>\n",
              "      <td>Paris</td>\n",
              "      <td>paris-friedland-42</td>\n",
              "      <td>STATION</td>\n",
              "      <td>48.8741642, 2.2976358</td>\n",
              "      <td>...</td>\n",
              "      <td>0</td>\n",
              "      <td>3</td>\n",
              "      <td>station</td>\n",
              "      <td>ok</td>\n",
              "      <td>nonexistent</td>\n",
              "      <td>2018</td>\n",
              "      <td>4</td>\n",
              "      <td>1</td>\n",
              "      <td>0</td>\n",
              "      <td>2</td>\n",
              "    </tr>\n",
              "    <tr>\n",
              "      <th>3378</th>\n",
              "      <td>178 Rue Lecourbe</td>\n",
              "      <td>2</td>\n",
              "      <td>0</td>\n",
              "      <td>0</td>\n",
              "      <td>1</td>\n",
              "      <td>operational</td>\n",
              "      <td>Paris</td>\n",
              "      <td>paris-lecourbe-178</td>\n",
              "      <td>STATION</td>\n",
              "      <td>48.8412037, 2.2977543</td>\n",
              "      <td>...</td>\n",
              "      <td>0</td>\n",
              "      <td>1</td>\n",
              "      <td>station</td>\n",
              "      <td>ok</td>\n",
              "      <td>nonexistent</td>\n",
              "      <td>2018</td>\n",
              "      <td>4</td>\n",
              "      <td>1</td>\n",
              "      <td>0</td>\n",
              "      <td>2</td>\n",
              "    </tr>\n",
              "    <tr>\n",
              "      <th>3379</th>\n",
              "      <td>31 Boulevard Rochechouart</td>\n",
              "      <td>1</td>\n",
              "      <td>1</td>\n",
              "      <td>1</td>\n",
              "      <td>0</td>\n",
              "      <td>operational</td>\n",
              "      <td>Paris</td>\n",
              "      <td>paris-rochechouart-31</td>\n",
              "      <td>STATION</td>\n",
              "      <td>48.8829733, 2.3454871</td>\n",
              "      <td>...</td>\n",
              "      <td>0</td>\n",
              "      <td>1</td>\n",
              "      <td>station</td>\n",
              "      <td>ok</td>\n",
              "      <td>nonexistent</td>\n",
              "      <td>2018</td>\n",
              "      <td>4</td>\n",
              "      <td>1</td>\n",
              "      <td>0</td>\n",
              "      <td>2</td>\n",
              "    </tr>\n",
              "    <tr>\n",
              "      <th>3380</th>\n",
              "      <td>1 Rue RenÃ© Jacques</td>\n",
              "      <td>3</td>\n",
              "      <td>0</td>\n",
              "      <td>0</td>\n",
              "      <td>1</td>\n",
              "      <td>operational</td>\n",
              "      <td>Issy-les-Moulineaux</td>\n",
              "      <td>issylesmoulineaux-renejacques-1</td>\n",
              "      <td>STATION</td>\n",
              "      <td>48.8238961, 2.2621859</td>\n",
              "      <td>...</td>\n",
              "      <td>0</td>\n",
              "      <td>1</td>\n",
              "      <td>station</td>\n",
              "      <td>ok</td>\n",
              "      <td>nonexistent</td>\n",
              "      <td>2018</td>\n",
              "      <td>4</td>\n",
              "      <td>1</td>\n",
              "      <td>0</td>\n",
              "      <td>2</td>\n",
              "    </tr>\n",
              "    <tr>\n",
              "      <th>3381</th>\n",
              "      <td>1 rue de Schomberg</td>\n",
              "      <td>1</td>\n",
              "      <td>0</td>\n",
              "      <td>0</td>\n",
              "      <td>2</td>\n",
              "      <td>operational</td>\n",
              "      <td>Paris</td>\n",
              "      <td>paris-schomberg-1</td>\n",
              "      <td>STATION</td>\n",
              "      <td>48.84925, 2.362993</td>\n",
              "      <td>...</td>\n",
              "      <td>0</td>\n",
              "      <td>5</td>\n",
              "      <td>station</td>\n",
              "      <td>ok</td>\n",
              "      <td>nonexistent</td>\n",
              "      <td>2018</td>\n",
              "      <td>4</td>\n",
              "      <td>1</td>\n",
              "      <td>0</td>\n",
              "      <td>2</td>\n",
              "    </tr>\n",
              "    <tr>\n",
              "      <th>3382</th>\n",
              "      <td>47 boulevard de l'HÃ´pital</td>\n",
              "      <td>2</td>\n",
              "      <td>0</td>\n",
              "      <td>1</td>\n",
              "      <td>0</td>\n",
              "      <td>operational</td>\n",
              "      <td>Paris</td>\n",
              "      <td>paris-hopital-47</td>\n",
              "      <td>STATION</td>\n",
              "      <td>48.84019, 2.362478</td>\n",
              "      <td>...</td>\n",
              "      <td>0</td>\n",
              "      <td>0</td>\n",
              "      <td>station</td>\n",
              "      <td>ok</td>\n",
              "      <td>nonexistent</td>\n",
              "      <td>2018</td>\n",
              "      <td>4</td>\n",
              "      <td>1</td>\n",
              "      <td>0</td>\n",
              "      <td>2</td>\n",
              "    </tr>\n",
              "    <tr>\n",
              "      <th>3383</th>\n",
              "      <td>34 Rue Antoine Fratacci</td>\n",
              "      <td>5</td>\n",
              "      <td>0</td>\n",
              "      <td>0</td>\n",
              "      <td>0</td>\n",
              "      <td>nonexistent</td>\n",
              "      <td>Vanves</td>\n",
              "      <td>vanves-antoinefratacci-34</td>\n",
              "      <td>STATION</td>\n",
              "      <td>48.82101, 2.28876</td>\n",
              "      <td>...</td>\n",
              "      <td>0</td>\n",
              "      <td>1</td>\n",
              "      <td>station</td>\n",
              "      <td>ok</td>\n",
              "      <td>nonexistent</td>\n",
              "      <td>2018</td>\n",
              "      <td>4</td>\n",
              "      <td>1</td>\n",
              "      <td>0</td>\n",
              "      <td>2</td>\n",
              "    </tr>\n",
              "    <tr>\n",
              "      <th>3384</th>\n",
              "      <td>16 rue Raoul Nordling</td>\n",
              "      <td>4</td>\n",
              "      <td>0</td>\n",
              "      <td>1</td>\n",
              "      <td>0</td>\n",
              "      <td>nonexistent</td>\n",
              "      <td>Bois-Colombes</td>\n",
              "      <td>boiscolombes-raoulnordling-16</td>\n",
              "      <td>STATION</td>\n",
              "      <td>48.90487, 2.264084</td>\n",
              "      <td>...</td>\n",
              "      <td>0</td>\n",
              "      <td>1</td>\n",
              "      <td>station</td>\n",
              "      <td>ok</td>\n",
              "      <td>nonexistent</td>\n",
              "      <td>2018</td>\n",
              "      <td>4</td>\n",
              "      <td>1</td>\n",
              "      <td>0</td>\n",
              "      <td>2</td>\n",
              "    </tr>\n",
              "    <tr>\n",
              "      <th>3385</th>\n",
              "      <td>3 rue Gabriel PÃ©ri</td>\n",
              "      <td>6</td>\n",
              "      <td>0</td>\n",
              "      <td>0</td>\n",
              "      <td>0</td>\n",
              "      <td>nonexistent</td>\n",
              "      <td>Saint-Denis</td>\n",
              "      <td>saintdenis-gabrielperi-3</td>\n",
              "      <td>STATION</td>\n",
              "      <td>48.9309502, 2.3561967</td>\n",
              "      <td>...</td>\n",
              "      <td>0</td>\n",
              "      <td>1</td>\n",
              "      <td>station</td>\n",
              "      <td>ok</td>\n",
              "      <td>nonexistent</td>\n",
              "      <td>2018</td>\n",
              "      <td>4</td>\n",
              "      <td>1</td>\n",
              "      <td>0</td>\n",
              "      <td>2</td>\n",
              "    </tr>\n",
              "    <tr>\n",
              "      <th>3386</th>\n",
              "      <td>199 avenue Daumesnil</td>\n",
              "      <td>1</td>\n",
              "      <td>1</td>\n",
              "      <td>1</td>\n",
              "      <td>0</td>\n",
              "      <td>nonexistent</td>\n",
              "      <td>Paris</td>\n",
              "      <td>paris-daumesnil-199</td>\n",
              "      <td>STATION</td>\n",
              "      <td>48.839307, 2.3971468</td>\n",
              "      <td>...</td>\n",
              "      <td>0</td>\n",
              "      <td>1</td>\n",
              "      <td>station</td>\n",
              "      <td>ok</td>\n",
              "      <td>nonexistent</td>\n",
              "      <td>2018</td>\n",
              "      <td>4</td>\n",
              "      <td>1</td>\n",
              "      <td>0</td>\n",
              "      <td>2</td>\n",
              "    </tr>\n",
              "    <tr>\n",
              "      <th>...</th>\n",
              "      <td>...</td>\n",
              "      <td>...</td>\n",
              "      <td>...</td>\n",
              "      <td>...</td>\n",
              "      <td>...</td>\n",
              "      <td>...</td>\n",
              "      <td>...</td>\n",
              "      <td>...</td>\n",
              "      <td>...</td>\n",
              "      <td>...</td>\n",
              "      <td>...</td>\n",
              "      <td>...</td>\n",
              "      <td>...</td>\n",
              "      <td>...</td>\n",
              "      <td>...</td>\n",
              "      <td>...</td>\n",
              "      <td>...</td>\n",
              "      <td>...</td>\n",
              "      <td>...</td>\n",
              "      <td>...</td>\n",
              "      <td>...</td>\n",
              "    </tr>\n",
              "    <tr>\n",
              "      <th>14419561</th>\n",
              "      <td>81 Avenue Bosquet</td>\n",
              "      <td>1</td>\n",
              "      <td>0</td>\n",
              "      <td>0</td>\n",
              "      <td>1</td>\n",
              "      <td>operational</td>\n",
              "      <td>Paris</td>\n",
              "      <td>paris-bosquet-81</td>\n",
              "      <td>STATION</td>\n",
              "      <td>48.8553541, 2.305473</td>\n",
              "      <td>...</td>\n",
              "      <td>0</td>\n",
              "      <td>3</td>\n",
              "      <td>station</td>\n",
              "      <td>ok</td>\n",
              "      <td>nonexistent</td>\n",
              "      <td>2018</td>\n",
              "      <td>4</td>\n",
              "      <td>9</td>\n",
              "      <td>23</td>\n",
              "      <td>57</td>\n",
              "    </tr>\n",
              "    <tr>\n",
              "      <th>14419562</th>\n",
              "      <td>41 avenue de Verdun</td>\n",
              "      <td>5</td>\n",
              "      <td>0</td>\n",
              "      <td>1</td>\n",
              "      <td>0</td>\n",
              "      <td>nonexistent</td>\n",
              "      <td>La Garenne-Colombes</td>\n",
              "      <td>lagarennecolombes-verdun-41</td>\n",
              "      <td>STATION</td>\n",
              "      <td>48.90387, 2.230934</td>\n",
              "      <td>...</td>\n",
              "      <td>0</td>\n",
              "      <td>0</td>\n",
              "      <td>station</td>\n",
              "      <td>ok</td>\n",
              "      <td>nonexistent</td>\n",
              "      <td>2018</td>\n",
              "      <td>4</td>\n",
              "      <td>9</td>\n",
              "      <td>23</td>\n",
              "      <td>57</td>\n",
              "    </tr>\n",
              "    <tr>\n",
              "      <th>14419563</th>\n",
              "      <td>2 rue de Martignac</td>\n",
              "      <td>0</td>\n",
              "      <td>0</td>\n",
              "      <td>0</td>\n",
              "      <td>1</td>\n",
              "      <td>operational</td>\n",
              "      <td>Paris</td>\n",
              "      <td>paris-martignac-2</td>\n",
              "      <td>STATION</td>\n",
              "      <td>48.8593659, 2.3195393</td>\n",
              "      <td>...</td>\n",
              "      <td>0</td>\n",
              "      <td>5</td>\n",
              "      <td>station</td>\n",
              "      <td>ok</td>\n",
              "      <td>nonexistent</td>\n",
              "      <td>2018</td>\n",
              "      <td>4</td>\n",
              "      <td>9</td>\n",
              "      <td>23</td>\n",
              "      <td>57</td>\n",
              "    </tr>\n",
              "    <tr>\n",
              "      <th>14419564</th>\n",
              "      <td>1 Place Georges Pompidou</td>\n",
              "      <td>3</td>\n",
              "      <td>0</td>\n",
              "      <td>0</td>\n",
              "      <td>0</td>\n",
              "      <td>nonexistent</td>\n",
              "      <td>Levallois-Perret</td>\n",
              "      <td>levalloisperret-pompidou-parking</td>\n",
              "      <td>PARKING</td>\n",
              "      <td>48.89851, 2.28102</td>\n",
              "      <td>...</td>\n",
              "      <td>0</td>\n",
              "      <td>0</td>\n",
              "      <td>station</td>\n",
              "      <td>ok</td>\n",
              "      <td>nonexistent</td>\n",
              "      <td>2018</td>\n",
              "      <td>4</td>\n",
              "      <td>9</td>\n",
              "      <td>23</td>\n",
              "      <td>57</td>\n",
              "    </tr>\n",
              "    <tr>\n",
              "      <th>14419565</th>\n",
              "      <td>1 rue Jean Monnet</td>\n",
              "      <td>5</td>\n",
              "      <td>0</td>\n",
              "      <td>1</td>\n",
              "      <td>0</td>\n",
              "      <td>nonexistent</td>\n",
              "      <td>Nogent-sur-Marne</td>\n",
              "      <td>nogentsurmarne-jeanmonnet-1</td>\n",
              "      <td>SPACE</td>\n",
              "      <td>48.8383861, 2.4934423</td>\n",
              "      <td>...</td>\n",
              "      <td>0</td>\n",
              "      <td>0</td>\n",
              "      <td>full_station</td>\n",
              "      <td>ok</td>\n",
              "      <td>broken</td>\n",
              "      <td>2018</td>\n",
              "      <td>4</td>\n",
              "      <td>9</td>\n",
              "      <td>23</td>\n",
              "      <td>57</td>\n",
              "    </tr>\n",
              "    <tr>\n",
              "      <th>14419835</th>\n",
              "      <td>18 Rue PerrÃ©e</td>\n",
              "      <td>0</td>\n",
              "      <td>0</td>\n",
              "      <td>0</td>\n",
              "      <td>0</td>\n",
              "      <td>broken</td>\n",
              "      <td>Paris</td>\n",
              "      <td>paris-perree-18</td>\n",
              "      <td>STATION</td>\n",
              "      <td>48.86502, 2.360503</td>\n",
              "      <td>...</td>\n",
              "      <td>0</td>\n",
              "      <td>3</td>\n",
              "      <td>station</td>\n",
              "      <td>ok</td>\n",
              "      <td>nonexistent</td>\n",
              "      <td>2018</td>\n",
              "      <td>4</td>\n",
              "      <td>9</td>\n",
              "      <td>23</td>\n",
              "      <td>58</td>\n",
              "    </tr>\n",
              "    <tr>\n",
              "      <th>14419838</th>\n",
              "      <td>17 Avenue Louis Pasteur</td>\n",
              "      <td>4</td>\n",
              "      <td>0</td>\n",
              "      <td>1</td>\n",
              "      <td>0</td>\n",
              "      <td>nonexistent</td>\n",
              "      <td>Bagneux</td>\n",
              "      <td>bagneux-louispasteur-17</td>\n",
              "      <td>STATION</td>\n",
              "      <td>48.7991008, 2.3177148</td>\n",
              "      <td>...</td>\n",
              "      <td>0</td>\n",
              "      <td>1</td>\n",
              "      <td>station</td>\n",
              "      <td>ok</td>\n",
              "      <td>nonexistent</td>\n",
              "      <td>2018</td>\n",
              "      <td>4</td>\n",
              "      <td>9</td>\n",
              "      <td>23</td>\n",
              "      <td>58</td>\n",
              "    </tr>\n",
              "    <tr>\n",
              "      <th>14419923</th>\n",
              "      <td>2 Rue Marcel Monge</td>\n",
              "      <td>3</td>\n",
              "      <td>0</td>\n",
              "      <td>0</td>\n",
              "      <td>1</td>\n",
              "      <td>operational</td>\n",
              "      <td>Suresnes</td>\n",
              "      <td>suresnes-marcelmonge-2</td>\n",
              "      <td>STATION</td>\n",
              "      <td>48.86121, 2.224382</td>\n",
              "      <td>...</td>\n",
              "      <td>0</td>\n",
              "      <td>2</td>\n",
              "      <td>station</td>\n",
              "      <td>ok</td>\n",
              "      <td>nonexistent</td>\n",
              "      <td>2018</td>\n",
              "      <td>4</td>\n",
              "      <td>9</td>\n",
              "      <td>23</td>\n",
              "      <td>58</td>\n",
              "    </tr>\n",
              "    <tr>\n",
              "      <th>14419986</th>\n",
              "      <td>16 Rue du Faubourg Saint-Antoine</td>\n",
              "      <td>0</td>\n",
              "      <td>0</td>\n",
              "      <td>0</td>\n",
              "      <td>0</td>\n",
              "      <td>broken</td>\n",
              "      <td>Paris</td>\n",
              "      <td>paris-saintantoine-16</td>\n",
              "      <td>STATION</td>\n",
              "      <td>48.8526773, 2.3710901</td>\n",
              "      <td>...</td>\n",
              "      <td>0</td>\n",
              "      <td>0</td>\n",
              "      <td>station</td>\n",
              "      <td>closed</td>\n",
              "      <td>nonexistent</td>\n",
              "      <td>2018</td>\n",
              "      <td>4</td>\n",
              "      <td>9</td>\n",
              "      <td>23</td>\n",
              "      <td>58</td>\n",
              "    </tr>\n",
              "    <tr>\n",
              "      <th>14420171</th>\n",
              "      <td>66 rue de la JonquiÃ¨re</td>\n",
              "      <td>4</td>\n",
              "      <td>0</td>\n",
              "      <td>0</td>\n",
              "      <td>1</td>\n",
              "      <td>operational</td>\n",
              "      <td>Paris</td>\n",
              "      <td>paris-jonquiere-66</td>\n",
              "      <td>STATION</td>\n",
              "      <td>48.8941653, 2.3211581</td>\n",
              "      <td>...</td>\n",
              "      <td>0</td>\n",
              "      <td>2</td>\n",
              "      <td>station</td>\n",
              "      <td>ok</td>\n",
              "      <td>nonexistent</td>\n",
              "      <td>2018</td>\n",
              "      <td>4</td>\n",
              "      <td>9</td>\n",
              "      <td>23</td>\n",
              "      <td>58</td>\n",
              "    </tr>\n",
              "    <tr>\n",
              "      <th>14420175</th>\n",
              "      <td>2 rue du GÃ©nÃ©ral Renault</td>\n",
              "      <td>4</td>\n",
              "      <td>0</td>\n",
              "      <td>0</td>\n",
              "      <td>0</td>\n",
              "      <td>nonexistent</td>\n",
              "      <td>Paris</td>\n",
              "      <td>paris-renault-2</td>\n",
              "      <td>STATION</td>\n",
              "      <td>48.8611413, 2.3781941</td>\n",
              "      <td>...</td>\n",
              "      <td>0</td>\n",
              "      <td>1</td>\n",
              "      <td>station</td>\n",
              "      <td>ok</td>\n",
              "      <td>nonexistent</td>\n",
              "      <td>2018</td>\n",
              "      <td>4</td>\n",
              "      <td>9</td>\n",
              "      <td>23</td>\n",
              "      <td>58</td>\n",
              "    </tr>\n",
              "    <tr>\n",
              "      <th>14420206</th>\n",
              "      <td>44 avenue de la Marne</td>\n",
              "      <td>3</td>\n",
              "      <td>0</td>\n",
              "      <td>0</td>\n",
              "      <td>0</td>\n",
              "      <td>nonexistent</td>\n",
              "      <td>AsniÃ¨res-sur-Seine</td>\n",
              "      <td>asnieressurseine-marne-44</td>\n",
              "      <td>STATION</td>\n",
              "      <td>48.9073637, 2.2830507</td>\n",
              "      <td>...</td>\n",
              "      <td>0</td>\n",
              "      <td>0</td>\n",
              "      <td>station</td>\n",
              "      <td>ok</td>\n",
              "      <td>nonexistent</td>\n",
              "      <td>2018</td>\n",
              "      <td>4</td>\n",
              "      <td>9</td>\n",
              "      <td>23</td>\n",
              "      <td>58</td>\n",
              "    </tr>\n",
              "    <tr>\n",
              "      <th>14420245</th>\n",
              "      <td>10 Rue Anizan Cavillon</td>\n",
              "      <td>0</td>\n",
              "      <td>0</td>\n",
              "      <td>0</td>\n",
              "      <td>0</td>\n",
              "      <td>nonexistent</td>\n",
              "      <td>Le Bourget</td>\n",
              "      <td>lebourget-anizancavillon-10</td>\n",
              "      <td>SPACE</td>\n",
              "      <td>48.9350451, 2.424831</td>\n",
              "      <td>...</td>\n",
              "      <td>0</td>\n",
              "      <td>0</td>\n",
              "      <td>full_station</td>\n",
              "      <td>closed</td>\n",
              "      <td>broken</td>\n",
              "      <td>2018</td>\n",
              "      <td>4</td>\n",
              "      <td>9</td>\n",
              "      <td>23</td>\n",
              "      <td>58</td>\n",
              "    </tr>\n",
              "    <tr>\n",
              "      <th>14420365</th>\n",
              "      <td>44 rue de Fontenay</td>\n",
              "      <td>1</td>\n",
              "      <td>0</td>\n",
              "      <td>0</td>\n",
              "      <td>0</td>\n",
              "      <td>nonexistent</td>\n",
              "      <td>Vincennes</td>\n",
              "      <td>vincennes-fontenay-44</td>\n",
              "      <td>STATION</td>\n",
              "      <td>48.84779, 2.44345</td>\n",
              "      <td>...</td>\n",
              "      <td>0</td>\n",
              "      <td>1</td>\n",
              "      <td>station</td>\n",
              "      <td>ok</td>\n",
              "      <td>nonexistent</td>\n",
              "      <td>2018</td>\n",
              "      <td>4</td>\n",
              "      <td>9</td>\n",
              "      <td>23</td>\n",
              "      <td>58</td>\n",
              "    </tr>\n",
              "    <tr>\n",
              "      <th>14420525</th>\n",
              "      <td>155 bis rue de Rennes</td>\n",
              "      <td>0</td>\n",
              "      <td>0</td>\n",
              "      <td>0</td>\n",
              "      <td>0</td>\n",
              "      <td>nonexistent</td>\n",
              "      <td>Paris</td>\n",
              "      <td>paris-rennesmontparnasse-parking</td>\n",
              "      <td>PARKING</td>\n",
              "      <td>48.84513, 2.32524</td>\n",
              "      <td>...</td>\n",
              "      <td>0</td>\n",
              "      <td>0</td>\n",
              "      <td>station</td>\n",
              "      <td>closed</td>\n",
              "      <td>nonexistent</td>\n",
              "      <td>2018</td>\n",
              "      <td>4</td>\n",
              "      <td>9</td>\n",
              "      <td>23</td>\n",
              "      <td>58</td>\n",
              "    </tr>\n",
              "    <tr>\n",
              "      <th>14420602</th>\n",
              "      <td>2 rue Pierre Renaudel</td>\n",
              "      <td>5</td>\n",
              "      <td>0</td>\n",
              "      <td>0</td>\n",
              "      <td>0</td>\n",
              "      <td>nonexistent</td>\n",
              "      <td>Champigny-sur-Marne</td>\n",
              "      <td>champignysurmarne-pierrerenaudel-2</td>\n",
              "      <td>SPACE</td>\n",
              "      <td>48.813519, 2.5091593</td>\n",
              "      <td>...</td>\n",
              "      <td>0</td>\n",
              "      <td>0</td>\n",
              "      <td>full_station</td>\n",
              "      <td>ok</td>\n",
              "      <td>operational</td>\n",
              "      <td>2018</td>\n",
              "      <td>4</td>\n",
              "      <td>9</td>\n",
              "      <td>23</td>\n",
              "      <td>58</td>\n",
              "    </tr>\n",
              "    <tr>\n",
              "      <th>14421815</th>\n",
              "      <td>6 rue GuÃ©briant</td>\n",
              "      <td>5</td>\n",
              "      <td>0</td>\n",
              "      <td>0</td>\n",
              "      <td>0</td>\n",
              "      <td>operational</td>\n",
              "      <td>Paris</td>\n",
              "      <td>paris-guebriant-6</td>\n",
              "      <td>STATION</td>\n",
              "      <td>48.8730881, 2.4092069</td>\n",
              "      <td>...</td>\n",
              "      <td>0</td>\n",
              "      <td>0</td>\n",
              "      <td>station</td>\n",
              "      <td>ok</td>\n",
              "      <td>nonexistent</td>\n",
              "      <td>2018</td>\n",
              "      <td>4</td>\n",
              "      <td>9</td>\n",
              "      <td>23</td>\n",
              "      <td>59</td>\n",
              "    </tr>\n",
              "    <tr>\n",
              "      <th>14421816</th>\n",
              "      <td>17 rue Caulaincourt</td>\n",
              "      <td>3</td>\n",
              "      <td>0</td>\n",
              "      <td>0</td>\n",
              "      <td>0</td>\n",
              "      <td>nonexistent</td>\n",
              "      <td>Paris</td>\n",
              "      <td>paris-caulaincourt-17</td>\n",
              "      <td>STATION</td>\n",
              "      <td>48.8872522, 2.3330069</td>\n",
              "      <td>...</td>\n",
              "      <td>0</td>\n",
              "      <td>0</td>\n",
              "      <td>station</td>\n",
              "      <td>ok</td>\n",
              "      <td>nonexistent</td>\n",
              "      <td>2018</td>\n",
              "      <td>4</td>\n",
              "      <td>9</td>\n",
              "      <td>23</td>\n",
              "      <td>59</td>\n",
              "    </tr>\n",
              "    <tr>\n",
              "      <th>14421817</th>\n",
              "      <td>50 Boulevard Auguste Blanqui</td>\n",
              "      <td>3</td>\n",
              "      <td>0</td>\n",
              "      <td>0</td>\n",
              "      <td>0</td>\n",
              "      <td>nonexistent</td>\n",
              "      <td>Paris</td>\n",
              "      <td>paris-augusteblanqui-50</td>\n",
              "      <td>STATION</td>\n",
              "      <td>48.8299453, 2.3499186</td>\n",
              "      <td>...</td>\n",
              "      <td>0</td>\n",
              "      <td>1</td>\n",
              "      <td>station</td>\n",
              "      <td>ok</td>\n",
              "      <td>nonexistent</td>\n",
              "      <td>2018</td>\n",
              "      <td>4</td>\n",
              "      <td>9</td>\n",
              "      <td>23</td>\n",
              "      <td>59</td>\n",
              "    </tr>\n",
              "    <tr>\n",
              "      <th>14421818</th>\n",
              "      <td>49 Rue Paul Vaillant Couturier</td>\n",
              "      <td>5</td>\n",
              "      <td>0</td>\n",
              "      <td>0</td>\n",
              "      <td>0</td>\n",
              "      <td>nonexistent</td>\n",
              "      <td>Malakoff</td>\n",
              "      <td>malakoff-paulvaillantcouturier-49</td>\n",
              "      <td>STATION</td>\n",
              "      <td>48.8137426, 2.2959516</td>\n",
              "      <td>...</td>\n",
              "      <td>0</td>\n",
              "      <td>0</td>\n",
              "      <td>station</td>\n",
              "      <td>ok</td>\n",
              "      <td>nonexistent</td>\n",
              "      <td>2018</td>\n",
              "      <td>4</td>\n",
              "      <td>9</td>\n",
              "      <td>23</td>\n",
              "      <td>59</td>\n",
              "    </tr>\n",
              "    <tr>\n",
              "      <th>14421819</th>\n",
              "      <td>4 rue Turgot</td>\n",
              "      <td>0</td>\n",
              "      <td>0</td>\n",
              "      <td>0</td>\n",
              "      <td>0</td>\n",
              "      <td>broken</td>\n",
              "      <td>Paris</td>\n",
              "      <td>paris-turgot-4</td>\n",
              "      <td>STATION</td>\n",
              "      <td>48.8800786, 2.3455235</td>\n",
              "      <td>...</td>\n",
              "      <td>0</td>\n",
              "      <td>0</td>\n",
              "      <td>station</td>\n",
              "      <td>closed</td>\n",
              "      <td>nonexistent</td>\n",
              "      <td>2018</td>\n",
              "      <td>4</td>\n",
              "      <td>9</td>\n",
              "      <td>23</td>\n",
              "      <td>59</td>\n",
              "    </tr>\n",
              "    <tr>\n",
              "      <th>14421820</th>\n",
              "      <td>31 boulevard National</td>\n",
              "      <td>0</td>\n",
              "      <td>0</td>\n",
              "      <td>0</td>\n",
              "      <td>0</td>\n",
              "      <td>nonexistent</td>\n",
              "      <td>La Garenne-Colombes</td>\n",
              "      <td>lagarennecolombes-national-31</td>\n",
              "      <td>STATION</td>\n",
              "      <td>48.90347, 2.239274</td>\n",
              "      <td>...</td>\n",
              "      <td>0</td>\n",
              "      <td>0</td>\n",
              "      <td>station</td>\n",
              "      <td>closed</td>\n",
              "      <td>nonexistent</td>\n",
              "      <td>2018</td>\n",
              "      <td>4</td>\n",
              "      <td>9</td>\n",
              "      <td>23</td>\n",
              "      <td>59</td>\n",
              "    </tr>\n",
              "    <tr>\n",
              "      <th>14421821</th>\n",
              "      <td>125 bis avenue Parmentier</td>\n",
              "      <td>0</td>\n",
              "      <td>0</td>\n",
              "      <td>0</td>\n",
              "      <td>1</td>\n",
              "      <td>operational</td>\n",
              "      <td>Paris</td>\n",
              "      <td>paris-parmentier-125</td>\n",
              "      <td>STATION</td>\n",
              "      <td>48.8690795, 2.371679</td>\n",
              "      <td>...</td>\n",
              "      <td>0</td>\n",
              "      <td>5</td>\n",
              "      <td>station</td>\n",
              "      <td>ok</td>\n",
              "      <td>nonexistent</td>\n",
              "      <td>2018</td>\n",
              "      <td>4</td>\n",
              "      <td>9</td>\n",
              "      <td>23</td>\n",
              "      <td>59</td>\n",
              "    </tr>\n",
              "    <tr>\n",
              "      <th>14421822</th>\n",
              "      <td>8 rue Danton</td>\n",
              "      <td>0</td>\n",
              "      <td>0</td>\n",
              "      <td>0</td>\n",
              "      <td>2</td>\n",
              "      <td>operational</td>\n",
              "      <td>Paris</td>\n",
              "      <td>paris-danton-8</td>\n",
              "      <td>STATION</td>\n",
              "      <td>48.85262, 2.342107</td>\n",
              "      <td>...</td>\n",
              "      <td>0</td>\n",
              "      <td>5</td>\n",
              "      <td>station</td>\n",
              "      <td>ok</td>\n",
              "      <td>nonexistent</td>\n",
              "      <td>2018</td>\n",
              "      <td>4</td>\n",
              "      <td>9</td>\n",
              "      <td>23</td>\n",
              "      <td>59</td>\n",
              "    </tr>\n",
              "    <tr>\n",
              "      <th>14421823</th>\n",
              "      <td>30 Rue RenÃ© Hamon</td>\n",
              "      <td>5</td>\n",
              "      <td>0</td>\n",
              "      <td>0</td>\n",
              "      <td>0</td>\n",
              "      <td>nonexistent</td>\n",
              "      <td>Villejuif</td>\n",
              "      <td>villejuif-renehamon-30</td>\n",
              "      <td>STATION</td>\n",
              "      <td>48.7906029, 2.3613621</td>\n",
              "      <td>...</td>\n",
              "      <td>0</td>\n",
              "      <td>1</td>\n",
              "      <td>station</td>\n",
              "      <td>ok</td>\n",
              "      <td>nonexistent</td>\n",
              "      <td>2018</td>\n",
              "      <td>4</td>\n",
              "      <td>9</td>\n",
              "      <td>23</td>\n",
              "      <td>59</td>\n",
              "    </tr>\n",
              "    <tr>\n",
              "      <th>14421824</th>\n",
              "      <td>2 rue Paul CÃ©zanne</td>\n",
              "      <td>2</td>\n",
              "      <td>0</td>\n",
              "      <td>0</td>\n",
              "      <td>0</td>\n",
              "      <td>nonexistent</td>\n",
              "      <td>Neuilly-Plaisance</td>\n",
              "      <td>neuillyplaisance-paulcezanne-2</td>\n",
              "      <td>SPACE</td>\n",
              "      <td>48.85206, 2.514694</td>\n",
              "      <td>...</td>\n",
              "      <td>0</td>\n",
              "      <td>3</td>\n",
              "      <td>full_station</td>\n",
              "      <td>ok</td>\n",
              "      <td>operational</td>\n",
              "      <td>2018</td>\n",
              "      <td>4</td>\n",
              "      <td>9</td>\n",
              "      <td>23</td>\n",
              "      <td>59</td>\n",
              "    </tr>\n",
              "    <tr>\n",
              "      <th>14421825</th>\n",
              "      <td>8 rue Louise Michel</td>\n",
              "      <td>3</td>\n",
              "      <td>0</td>\n",
              "      <td>0</td>\n",
              "      <td>0</td>\n",
              "      <td>nonexistent</td>\n",
              "      <td>Levallois-Perret</td>\n",
              "      <td>levalloisperret-louisemichel-parking</td>\n",
              "      <td>PARKING</td>\n",
              "      <td>48.88718, 2.28447</td>\n",
              "      <td>...</td>\n",
              "      <td>0</td>\n",
              "      <td>2</td>\n",
              "      <td>station</td>\n",
              "      <td>ok</td>\n",
              "      <td>nonexistent</td>\n",
              "      <td>2018</td>\n",
              "      <td>4</td>\n",
              "      <td>9</td>\n",
              "      <td>23</td>\n",
              "      <td>59</td>\n",
              "    </tr>\n",
              "    <tr>\n",
              "      <th>14421826</th>\n",
              "      <td>3 rue Olivier de Serres</td>\n",
              "      <td>5</td>\n",
              "      <td>0</td>\n",
              "      <td>0</td>\n",
              "      <td>0</td>\n",
              "      <td>operational</td>\n",
              "      <td>Paris</td>\n",
              "      <td>paris-olivierdeserres-3</td>\n",
              "      <td>STATION</td>\n",
              "      <td>48.8370178, 2.2986736</td>\n",
              "      <td>...</td>\n",
              "      <td>0</td>\n",
              "      <td>1</td>\n",
              "      <td>station</td>\n",
              "      <td>ok</td>\n",
              "      <td>nonexistent</td>\n",
              "      <td>2018</td>\n",
              "      <td>4</td>\n",
              "      <td>9</td>\n",
              "      <td>23</td>\n",
              "      <td>59</td>\n",
              "    </tr>\n",
              "    <tr>\n",
              "      <th>14421827</th>\n",
              "      <td>11 avenue du GÃ©nÃ©ral De Gaulle</td>\n",
              "      <td>0</td>\n",
              "      <td>0</td>\n",
              "      <td>0</td>\n",
              "      <td>0</td>\n",
              "      <td>nonexistent</td>\n",
              "      <td>Antony</td>\n",
              "      <td>antony-degaulle-11</td>\n",
              "      <td>STATION</td>\n",
              "      <td>48.76307, 2.306646</td>\n",
              "      <td>...</td>\n",
              "      <td>0</td>\n",
              "      <td>5</td>\n",
              "      <td>station</td>\n",
              "      <td>ok</td>\n",
              "      <td>broken</td>\n",
              "      <td>2018</td>\n",
              "      <td>4</td>\n",
              "      <td>9</td>\n",
              "      <td>23</td>\n",
              "      <td>59</td>\n",
              "    </tr>\n",
              "    <tr>\n",
              "      <th>14421828</th>\n",
              "      <td>1 rue AndrÃ© Theuriet</td>\n",
              "      <td>1</td>\n",
              "      <td>0</td>\n",
              "      <td>0</td>\n",
              "      <td>0</td>\n",
              "      <td>nonexistent</td>\n",
              "      <td>Bourg-la-Reine</td>\n",
              "      <td>bourglareine-andretheuriet-1</td>\n",
              "      <td>SPACE</td>\n",
              "      <td>48.7797297, 2.3131491</td>\n",
              "      <td>...</td>\n",
              "      <td>0</td>\n",
              "      <td>4</td>\n",
              "      <td>full_station</td>\n",
              "      <td>ok</td>\n",
              "      <td>operational</td>\n",
              "      <td>2018</td>\n",
              "      <td>4</td>\n",
              "      <td>9</td>\n",
              "      <td>23</td>\n",
              "      <td>59</td>\n",
              "    </tr>\n",
              "  </tbody>\n",
              "</table>\n",
              "<p>142890 rows × 23 columns</p>\n",
              "</div>"
            ]
          },
          "metadata": {
            "tags": []
          },
          "execution_count": 93
        }
      ]
    },
    {
      "cell_type": "code",
      "metadata": {
        "id": "mgfIuc_HTyJd",
        "colab_type": "code",
        "colab": {}
      },
      "source": [
        "#This is to drop duplicates\n",
        "car.drop_duplicates(keep=False,inplace=True)"
      ],
      "execution_count": 0,
      "outputs": []
    },
    {
      "cell_type": "code",
      "metadata": {
        "id": "xla2AsMXVFMR",
        "colab_type": "code",
        "outputId": "b5005940-c6b7-46b2-81d6-3fb3104ed26f",
        "colab": {
          "base_uri": "https://localhost:8080/",
          "height": 34
        }
      },
      "source": [
        "#This is the evidence\n",
        "car.shape"
      ],
      "execution_count": 0,
      "outputs": [
        {
          "output_type": "execute_result",
          "data": {
            "text/plain": [
              "(14136049, 23)"
            ]
          },
          "metadata": {
            "tags": []
          },
          "execution_count": 95
        }
      ]
    },
    {
      "cell_type": "markdown",
      "metadata": {
        "id": "STCqK8cnWEyh",
        "colab_type": "text"
      },
      "source": [
        "## *Uniformity*"
      ]
    },
    {
      "cell_type": "code",
      "metadata": {
        "id": "smzpsGnmV_NN",
        "colab_type": "code",
        "colab": {}
      },
      "source": [
        "#Renaming the columns ,removing spaces ,converting to lower,replacing spaces with underscore\n",
        "car.columns = car.columns.str.strip().str.lower().str.replace(' ', '_')"
      ],
      "execution_count": 0,
      "outputs": []
    },
    {
      "cell_type": "code",
      "metadata": {
        "id": "5TOQirgMXFQk",
        "colab_type": "code",
        "outputId": "4f41c27d-698f-453a-f736-8f29c9b96ad6",
        "colab": {
          "base_uri": "https://localhost:8080/",
          "height": 118
        }
      },
      "source": [
        "car.columns"
      ],
      "execution_count": 0,
      "outputs": [
        {
          "output_type": "execute_result",
          "data": {
            "text/plain": [
              "Index(['address', 'bluecar_counter', 'utilib_counter', 'utilib_1.4_counter',\n",
              "       'charge_slots', 'charging_status', 'city', 'id', 'kind', 'geo_point',\n",
              "       'postal_code', 'public_name', 'rental_status', 'scheduled_at', 'slots',\n",
              "       'station_type', 'status', 'subscription_status', 'year', 'month', 'day',\n",
              "       'hour', 'minute'],\n",
              "      dtype='object')"
            ]
          },
          "metadata": {
            "tags": []
          },
          "execution_count": 97
        }
      ]
    },
    {
      "cell_type": "code",
      "metadata": {
        "id": "nb2sPDY3YEfj",
        "colab_type": "code",
        "colab": {}
      },
      "source": [
        "#converting data types date and time\n",
        "car['date'] = car.apply(lambda row: dt.datetime(row['year'], row['month'], row['day'], row['hour'], row['minute']), axis=1)"
      ],
      "execution_count": 0,
      "outputs": []
    },
    {
      "cell_type": "code",
      "metadata": {
        "id": "JahfqEOkSa_r",
        "colab_type": "code",
        "outputId": "ad3d09a7-d509-4568-c04b-33c9869a0d9a",
        "colab": {
          "base_uri": "https://localhost:8080/",
          "height": 1000
        }
      },
      "source": [
        "car['date']"
      ],
      "execution_count": 0,
      "outputs": [
        {
          "output_type": "execute_result",
          "data": {
            "text/plain": [
              "0          2018-04-01 00:00:00\n",
              "1          2018-04-01 00:00:00\n",
              "2          2018-04-01 00:00:00\n",
              "3          2018-04-01 00:00:00\n",
              "4          2018-04-01 00:00:00\n",
              "5          2018-04-01 00:00:00\n",
              "6          2018-04-01 00:00:00\n",
              "8          2018-04-01 00:00:00\n",
              "9          2018-04-01 00:00:00\n",
              "10         2018-04-01 00:00:00\n",
              "11         2018-04-01 00:00:00\n",
              "12         2018-04-01 00:00:00\n",
              "13         2018-04-01 00:00:00\n",
              "14         2018-04-01 00:00:00\n",
              "15         2018-04-01 00:00:00\n",
              "16         2018-04-01 00:00:00\n",
              "17         2018-04-01 00:00:00\n",
              "18         2018-04-01 00:00:00\n",
              "19         2018-04-01 00:00:00\n",
              "20         2018-04-01 00:00:00\n",
              "21         2018-04-01 00:00:00\n",
              "22         2018-04-01 00:00:00\n",
              "23         2018-04-01 00:00:00\n",
              "24         2018-04-01 00:00:00\n",
              "25         2018-04-01 00:00:00\n",
              "26         2018-04-01 00:00:00\n",
              "27         2018-04-01 00:00:00\n",
              "28         2018-04-01 00:00:00\n",
              "29         2018-04-01 00:00:00\n",
              "30         2018-04-01 00:00:00\n",
              "                   ...        \n",
              "14421785   2018-04-09 23:59:00\n",
              "14421786   2018-04-09 23:59:00\n",
              "14421787   2018-04-09 23:59:00\n",
              "14421788   2018-04-09 23:59:00\n",
              "14421789   2018-04-09 23:59:00\n",
              "14421790   2018-04-09 23:59:00\n",
              "14421791   2018-04-09 23:59:00\n",
              "14421792   2018-04-09 23:59:00\n",
              "14421793   2018-04-09 23:59:00\n",
              "14421794   2018-04-09 23:59:00\n",
              "14421795   2018-04-09 23:59:00\n",
              "14421796   2018-04-09 23:59:00\n",
              "14421797   2018-04-09 23:59:00\n",
              "14421798   2018-04-09 23:59:00\n",
              "14421799   2018-04-09 23:59:00\n",
              "14421800   2018-04-09 23:59:00\n",
              "14421801   2018-04-09 23:59:00\n",
              "14421802   2018-04-09 23:59:00\n",
              "14421803   2018-04-09 23:59:00\n",
              "14421804   2018-04-09 23:59:00\n",
              "14421805   2018-04-09 23:59:00\n",
              "14421806   2018-04-09 23:59:00\n",
              "14421807   2018-04-09 23:59:00\n",
              "14421808   2018-04-09 23:59:00\n",
              "14421809   2018-04-09 23:59:00\n",
              "14421810   2018-04-09 23:59:00\n",
              "14421811   2018-04-09 23:59:00\n",
              "14421812   2018-04-09 23:59:00\n",
              "14421813   2018-04-09 23:59:00\n",
              "14421814   2018-04-09 23:59:00\n",
              "Name: date, Length: 14136049, dtype: datetime64[ns]"
            ]
          },
          "metadata": {
            "tags": []
          },
          "execution_count": 99
        }
      ]
    },
    {
      "cell_type": "markdown",
      "metadata": {
        "id": "KYM0SJkIVcEj",
        "colab_type": "text"
      },
      "source": [
        "## Adding Relevant columns"
      ]
    },
    {
      "cell_type": "code",
      "metadata": {
        "id": "oIFwywcDBmx_",
        "colab_type": "code",
        "colab": {}
      },
      "source": [
        "#creating a new bluecar_counter with differences inoerder to\n",
        "car['bluecar_counter_diff']=car.bluecar_counter.diff()"
      ],
      "execution_count": 0,
      "outputs": []
    },
    {
      "cell_type": "code",
      "metadata": {
        "id": "V6YS-5LlVmXl",
        "colab_type": "code",
        "colab": {}
      },
      "source": [
        "#creating a new utilib_counter with differences inoerder to\n",
        "car['utilib_counter_diff']=car.utilib_counter.diff()"
      ],
      "execution_count": 0,
      "outputs": []
    },
    {
      "cell_type": "code",
      "metadata": {
        "id": "XXyF9clfVmca",
        "colab_type": "code",
        "colab": {}
      },
      "source": [
        "#creating a new utilib_1.4_counter with differences inoerder to\n",
        "car['utilib_1.4_counter_diff']=car['utilib_1.4_counter'].diff()"
      ],
      "execution_count": 0,
      "outputs": []
    },
    {
      "cell_type": "markdown",
      "metadata": {
        "id": "tgYy9-0bE19Z",
        "colab_type": "text"
      },
      "source": [
        "# Answeing Objective questions"
      ]
    },
    {
      "cell_type": "code",
      "metadata": {
        "id": "Ou4Ne0QxTj3b",
        "colab_type": "code",
        "outputId": "3d804144-018f-45e7-d4fa-71716a90e1df",
        "colab": {
          "base_uri": "https://localhost:8080/",
          "height": 134
        }
      },
      "source": [
        "car.columns"
      ],
      "execution_count": 0,
      "outputs": [
        {
          "output_type": "execute_result",
          "data": {
            "text/plain": [
              "Index(['address', 'bluecar_counter', 'utilib_counter', 'utilib_1.4_counter',\n",
              "       'charge_slots', 'charging_status', 'city', 'id', 'kind', 'geo_point',\n",
              "       'postal_code', 'public_name', 'rental_status', 'scheduled_at', 'slots',\n",
              "       'station_type', 'status', 'subscription_status', 'year', 'month', 'day',\n",
              "       'hour', 'minute', 'date', 'bluecar_counter_diff', 'utilib_counter_diff',\n",
              "       'utilib_1.4_counter_diff'],\n",
              "      dtype='object')"
            ]
          },
          "metadata": {
            "tags": []
          },
          "execution_count": 103
        }
      ]
    },
    {
      "cell_type": "markdown",
      "metadata": {
        "id": "AaSNfPrX_acT",
        "colab_type": "text"
      },
      "source": [
        "## Question 1"
      ]
    },
    {
      "cell_type": "code",
      "metadata": {
        "id": "4rQjlZV7E78J",
        "colab_type": "code",
        "outputId": "bd0a74dd-cfc3-43bd-dcb6-46ae20f712e3",
        "colab": {
          "base_uri": "https://localhost:8080/",
          "height": 84
        }
      },
      "source": [
        "#Identify the most popular hour of the day for picking up a shared electric car (Bluecar) in the city of Paris over the month of April 2018\n",
        "car[(car['city']=='Paris') & (car['bluecar_counter_diff'] < 0)].groupby(car.date.dt.hour)['bluecar_counter_diff'].count().sort_values(ascending= False).head(2)\n"
      ],
      "execution_count": 0,
      "outputs": [
        {
          "output_type": "execute_result",
          "data": {
            "text/plain": [
              "date\n",
              "4    146713\n",
              "3    146595\n",
              "Name: bluecar_counter_diff, dtype: int64"
            ]
          },
          "metadata": {
            "tags": []
          },
          "execution_count": 104
        }
      ]
    },
    {
      "cell_type": "code",
      "metadata": {
        "id": "KLdHvM_SsgDh",
        "colab_type": "code",
        "outputId": "28425a85-84b8-405e-800b-6aca766efab2",
        "colab": {
          "base_uri": "https://localhost:8080/",
          "height": 84
        }
      },
      "source": [
        "car[(car['city']=='Paris') & (car['utilib_counter_diff'] < 0)].groupby(car.date.dt.hour)['utilib_counter_diff'].count().sort_values(ascending= False).head(2)\n"
      ],
      "execution_count": 0,
      "outputs": [
        {
          "output_type": "execute_result",
          "data": {
            "text/plain": [
              "date\n",
              "5    19406\n",
              "7    19177\n",
              "Name: utilib_counter_diff, dtype: int64"
            ]
          },
          "metadata": {
            "tags": []
          },
          "execution_count": 110
        }
      ]
    },
    {
      "cell_type": "code",
      "metadata": {
        "id": "ne-yAy-qsz3O",
        "colab_type": "code",
        "outputId": "23bf0181-5f2b-4fe4-f777-96fb77e5e68e",
        "colab": {
          "base_uri": "https://localhost:8080/",
          "height": 84
        }
      },
      "source": [
        "car[(car['city']=='Paris') & (car['utilib_1.4_counter_diff'] < 0)].groupby(car.date.dt.hour)['utilib_1.4_counter_diff'].count().sort_values(ascending= False).head(2)\n"
      ],
      "execution_count": 0,
      "outputs": [
        {
          "output_type": "execute_result",
          "data": {
            "text/plain": [
              "date\n",
              "6    35850\n",
              "5    35383\n",
              "Name: utilib_1.4_counter_diff, dtype: int64"
            ]
          },
          "metadata": {
            "tags": []
          },
          "execution_count": 111
        }
      ]
    },
    {
      "cell_type": "markdown",
      "metadata": {
        "id": "LjCTeTX8c-ZL",
        "colab_type": "text"
      },
      "source": [
        "## Question2"
      ]
    },
    {
      "cell_type": "code",
      "metadata": {
        "id": "qbt8o2AsY8VL",
        "colab_type": "code",
        "outputId": "2588cdc4-e813-4433-dade-e058f41edd23",
        "colab": {
          "base_uri": "https://localhost:8080/",
          "height": 84
        }
      },
      "source": [
        "#What is the most popular hour for returning cars?\n",
        "car[(car['bluecar_counter_diff'] > 0)].groupby(car.date.dt.hour)['bluecar_counter_diff'].sum().sort_values(ascending= False).head(2)\n"
      ],
      "execution_count": 0,
      "outputs": [
        {
          "output_type": "execute_result",
          "data": {
            "text/plain": [
              "date\n",
              "4    708001.0\n",
              "5    705399.0\n",
              "Name: bluecar_counter_diff, dtype: float64"
            ]
          },
          "metadata": {
            "tags": []
          },
          "execution_count": 105
        }
      ]
    },
    {
      "cell_type": "code",
      "metadata": {
        "id": "S_R3USSns6E7",
        "colab_type": "code",
        "outputId": "499bec28-451d-47a4-c376-866140e792c7",
        "colab": {
          "base_uri": "https://localhost:8080/",
          "height": 84
        }
      },
      "source": [
        "car[(car['utilib_counter_diff'] > 0)].groupby(car.date.dt.hour)['utilib_counter_diff'].sum().sort_values(ascending= False).head(2)\n"
      ],
      "execution_count": 0,
      "outputs": [
        {
          "output_type": "execute_result",
          "data": {
            "text/plain": [
              "date\n",
              "5    40112.0\n",
              "6    40100.0\n",
              "Name: utilib_counter_diff, dtype: float64"
            ]
          },
          "metadata": {
            "tags": []
          },
          "execution_count": 113
        }
      ]
    },
    {
      "cell_type": "code",
      "metadata": {
        "id": "v1XEeEJ-s7VE",
        "colab_type": "code",
        "outputId": "527d669b-3c50-4c23-d65b-ccbdb92cc163",
        "colab": {
          "base_uri": "https://localhost:8080/",
          "height": 84
        }
      },
      "source": [
        "car[(car['utilib_1.4_counter_diff'] > 0)].groupby(car.date.dt.hour)['utilib_1.4_counter_diff'].sum().sort_values(ascending= False).head(2)\n"
      ],
      "execution_count": 0,
      "outputs": [
        {
          "output_type": "execute_result",
          "data": {
            "text/plain": [
              "date\n",
              "4    78138.0\n",
              "5    78076.0\n",
              "Name: utilib_1.4_counter_diff, dtype: float64"
            ]
          },
          "metadata": {
            "tags": []
          },
          "execution_count": 114
        }
      ]
    },
    {
      "cell_type": "markdown",
      "metadata": {
        "id": "pw0-a1tUd6vl",
        "colab_type": "text"
      },
      "source": [
        "##Question 3"
      ]
    },
    {
      "cell_type": "code",
      "metadata": {
        "id": "ADKYC0kcXPB2",
        "colab_type": "code",
        "outputId": "ef22a171-481e-4bfe-b723-421f1d3972f2",
        "colab": {
          "base_uri": "https://localhost:8080/",
          "height": 84
        }
      },
      "source": [
        "#What station is the most popular for picking?\n",
        "car[(car['bluecar_counter_diff'] < 0)& (car['status']=='ok')&(car['subscription_status']=='operational')].groupby('public_name')['public_name'].count().sort_values(ascending= False).head(2)\n"
      ],
      "execution_count": 0,
      "outputs": [
        {
          "output_type": "execute_result",
          "data": {
            "text/plain": [
              "public_name\n",
              "Malakoff/Charles de Gaulle/Parking    9054\n",
              "Paris/Halles/3                        9029\n",
              "Name: public_name, dtype: int64"
            ]
          },
          "metadata": {
            "tags": []
          },
          "execution_count": 106
        }
      ]
    },
    {
      "cell_type": "code",
      "metadata": {
        "id": "UvWfVJA7s9fE",
        "colab_type": "code",
        "outputId": "6d1d3520-60b7-4168-8bb7-03e3a56eb711",
        "colab": {
          "base_uri": "https://localhost:8080/",
          "height": 84
        }
      },
      "source": [
        "car[(car['utilib_counter_diff'] < 0)& (car['status']=='ok')&(car['subscription_status']=='operational')].groupby('public_name')['public_name'].count().sort_values(ascending= False).head(2)\n"
      ],
      "execution_count": 0,
      "outputs": [
        {
          "output_type": "execute_result",
          "data": {
            "text/plain": [
              "public_name\n",
              "Boulogne-Billancourt/Gallieni/114    1693\n",
              "Paris/Lobau/Parking                  1649\n",
              "Name: public_name, dtype: int64"
            ]
          },
          "metadata": {
            "tags": []
          },
          "execution_count": 115
        }
      ]
    },
    {
      "cell_type": "code",
      "metadata": {
        "id": "ohtlg--0tA5P",
        "colab_type": "code",
        "outputId": "9f4650ca-9faa-48a9-dc67-871df03aefcf",
        "colab": {
          "base_uri": "https://localhost:8080/",
          "height": 84
        }
      },
      "source": [
        "car[(car['utilib_1.4_counter_diff'] < 0)& (car['status']=='ok')&(car['subscription_status']=='operational')].groupby('public_name')['public_name'].count().sort_values(ascending= False).head(2)\n"
      ],
      "execution_count": 0,
      "outputs": [
        {
          "output_type": "execute_result",
          "data": {
            "text/plain": [
              "public_name\n",
              "Malakoff/Charles de Gaulle/Parking    2153\n",
              "Alfortville/Malleret/16               2111\n",
              "Name: public_name, dtype: int64"
            ]
          },
          "metadata": {
            "tags": []
          },
          "execution_count": 116
        }
      ]
    },
    {
      "cell_type": "code",
      "metadata": {
        "id": "Sj0LmYQgbTfQ",
        "colab_type": "code",
        "outputId": "8bd450ec-4dac-4276-fa70-2493d49eaf82",
        "colab": {
          "base_uri": "https://localhost:8080/",
          "height": 84
        }
      },
      "source": [
        "#What station is the most popular for returning?\n",
        "car[(car['bluecar_counter_diff'] > 0)& (car['status']=='ok')&(car['subscription_status']=='operational')].groupby('public_name')['public_name'].count().sort_values(ascending= False).head(2)\n"
      ],
      "execution_count": 0,
      "outputs": [
        {
          "output_type": "execute_result",
          "data": {
            "text/plain": [
              "public_name\n",
              "Colombes/MarÃ©chal Joffre/30    9734\n",
              "AsniÃ¨res-sur-Seine/Bas/6       9589\n",
              "Name: public_name, dtype: int64"
            ]
          },
          "metadata": {
            "tags": []
          },
          "execution_count": 107
        }
      ]
    },
    {
      "cell_type": "code",
      "metadata": {
        "id": "eEbIWeCvtGnD",
        "colab_type": "code",
        "outputId": "dca63461-67bd-42a8-cf7e-52da3dc76842",
        "colab": {
          "base_uri": "https://localhost:8080/",
          "height": 84
        }
      },
      "source": [
        "car[(car['utilib_counter_diff'] > 0)& (car['status']=='ok')&(car['subscription_status']=='operational')].groupby('public_name')['public_name'].count().sort_values(ascending= False).head(2)\n"
      ],
      "execution_count": 0,
      "outputs": [
        {
          "output_type": "execute_result",
          "data": {
            "text/plain": [
              "public_name\n",
              "Sceaux/Gare/3           2996\n",
              "Nanterre/Gambetta/20    2989\n",
              "Name: public_name, dtype: int64"
            ]
          },
          "metadata": {
            "tags": []
          },
          "execution_count": 117
        }
      ]
    },
    {
      "cell_type": "code",
      "metadata": {
        "id": "WsrIa5netICX",
        "colab_type": "code",
        "outputId": "a78bdb0b-0190-4eed-f14e-03cb19d37576",
        "colab": {
          "base_uri": "https://localhost:8080/",
          "height": 84
        }
      },
      "source": [
        "car[(car['utilib_1.4_counter_diff'] > 0)& (car['status']=='ok')&(car['subscription_status']=='operational')].groupby('public_name')['public_name'].count().sort_values(ascending= False).head(2)\n"
      ],
      "execution_count": 0,
      "outputs": [
        {
          "output_type": "execute_result",
          "data": {
            "text/plain": [
              "public_name\n",
              "Fontenay-Sous-Bois/Rabelais/12    4851\n",
              "Nanterre/Gambetta/20              4636\n",
              "Name: public_name, dtype: int64"
            ]
          },
          "metadata": {
            "tags": []
          },
          "execution_count": 118
        }
      ]
    },
    {
      "cell_type": "markdown",
      "metadata": {
        "id": "XtiZpeyhkcNi",
        "colab_type": "text"
      },
      "source": [
        "##Question 4"
      ]
    },
    {
      "cell_type": "code",
      "metadata": {
        "id": "sJzLTD0SkkPS",
        "colab_type": "code",
        "outputId": "ad34d570-7171-47fe-b957-9a8346305ad1",
        "colab": {
          "base_uri": "https://localhost:8080/",
          "height": 67
        }
      },
      "source": [
        "#What postal code is the most popular for picking up Bluecars? \n",
        "car[car['bluecar_counter_diff'] < 0].groupby('postal_code')['postal_code'].count().sort_values(ascending = False).head(1)"
      ],
      "execution_count": 0,
      "outputs": [
        {
          "output_type": "execute_result",
          "data": {
            "text/plain": [
              "postal_code\n",
              "75015    284361\n",
              "Name: postal_code, dtype: int64"
            ]
          },
          "metadata": {
            "tags": []
          },
          "execution_count": 108
        }
      ]
    },
    {
      "cell_type": "code",
      "metadata": {
        "id": "rSZbHEfOtMBC",
        "colab_type": "code",
        "outputId": "1a32fa88-1a1c-4882-fed4-50b9ba1dfa3b",
        "colab": {
          "base_uri": "https://localhost:8080/",
          "height": 67
        }
      },
      "source": [
        "car[car['utilib_counter_diff'] < 0].groupby('postal_code')['postal_code'].count().sort_values(ascending = False).head(1)"
      ],
      "execution_count": 0,
      "outputs": [
        {
          "output_type": "execute_result",
          "data": {
            "text/plain": [
              "postal_code\n",
              "75015    44526\n",
              "Name: postal_code, dtype: int64"
            ]
          },
          "metadata": {
            "tags": []
          },
          "execution_count": 119
        }
      ]
    },
    {
      "cell_type": "code",
      "metadata": {
        "id": "WkPthYtttNLK",
        "colab_type": "code",
        "outputId": "9da5e771-63fe-42d6-984b-7711c51673be",
        "colab": {
          "base_uri": "https://localhost:8080/",
          "height": 67
        }
      },
      "source": [
        "car[car['utilib_1.4_counter_diff'] < 0].groupby('postal_code')['postal_code'].count().sort_values(ascending = False).head(1)"
      ],
      "execution_count": 0,
      "outputs": [
        {
          "output_type": "execute_result",
          "data": {
            "text/plain": [
              "postal_code\n",
              "75015    72308\n",
              "Name: postal_code, dtype: int64"
            ]
          },
          "metadata": {
            "tags": []
          },
          "execution_count": 120
        }
      ]
    },
    {
      "cell_type": "markdown",
      "metadata": {
        "id": "9pCbNS8m1y7m",
        "colab_type": "text"
      },
      "source": [
        "##Question 5"
      ]
    },
    {
      "cell_type": "code",
      "metadata": {
        "id": "bQS2Js9NnUJW",
        "colab_type": "code",
        "outputId": "6cbea675-1d8b-44b0-a4ba-95de7a6f1f73",
        "colab": {
          "base_uri": "https://localhost:8080/",
          "height": 96
        }
      },
      "source": [
        "#Does the most popular station belong to that postal code?\n",
        "car[(car['public_name']=='Colombes/MarÃ©chal Joffre/30') & (car['postal_code']==75015)]"
      ],
      "execution_count": 0,
      "outputs": [
        {
          "output_type": "execute_result",
          "data": {
            "text/plain": [
              "Empty DataFrame\n",
              "Columns: [address, bluecar_counter, utilib_counter, utilib_1.4_counter, charge_slots, charging_status, city, id, kind, geo_point, postal_code, public_name, rental_status, scheduled_at, slots, station_type, status, subscription_status, year, month, day, hour, minute, date, bluecar_counter_diff, utilib_counter_diff, utilib_1.4_counter_diff]\n",
              "Index: []\n",
              "\n",
              "[0 rows x 27 columns]"
            ],
            "text/html": [
              "<div>\n",
              "<style scoped>\n",
              "    .dataframe tbody tr th:only-of-type {\n",
              "        vertical-align: middle;\n",
              "    }\n",
              "\n",
              "    .dataframe tbody tr th {\n",
              "        vertical-align: top;\n",
              "    }\n",
              "\n",
              "    .dataframe thead th {\n",
              "        text-align: right;\n",
              "    }\n",
              "</style>\n",
              "<table border=\"1\" class=\"dataframe\">\n",
              "  <thead>\n",
              "    <tr style=\"text-align: right;\">\n",
              "      <th></th>\n",
              "      <th>address</th>\n",
              "      <th>bluecar_counter</th>\n",
              "      <th>utilib_counter</th>\n",
              "      <th>utilib_1.4_counter</th>\n",
              "      <th>charge_slots</th>\n",
              "      <th>charging_status</th>\n",
              "      <th>city</th>\n",
              "      <th>id</th>\n",
              "      <th>kind</th>\n",
              "      <th>geo_point</th>\n",
              "      <th>...</th>\n",
              "      <th>subscription_status</th>\n",
              "      <th>year</th>\n",
              "      <th>month</th>\n",
              "      <th>day</th>\n",
              "      <th>hour</th>\n",
              "      <th>minute</th>\n",
              "      <th>date</th>\n",
              "      <th>bluecar_counter_diff</th>\n",
              "      <th>utilib_counter_diff</th>\n",
              "      <th>utilib_1.4_counter_diff</th>\n",
              "    </tr>\n",
              "  </thead>\n",
              "  <tbody>\n",
              "  </tbody>\n",
              "</table>\n",
              "<p>0 rows × 27 columns</p>\n",
              "</div>"
            ]
          },
          "metadata": {
            "tags": []
          },
          "execution_count": 124
        }
      ]
    },
    {
      "cell_type": "code",
      "metadata": {
        "id": "rd5ismSXtRtk",
        "colab_type": "code",
        "outputId": "ce2f93f0-f347-4aba-9162-87dd3812c320",
        "colab": {
          "base_uri": "https://localhost:8080/",
          "height": 96
        }
      },
      "source": [
        "car[(car['public_name']=='Sceaux/Gare/3') & (car['postal_code']==75015)]"
      ],
      "execution_count": 0,
      "outputs": [
        {
          "output_type": "execute_result",
          "data": {
            "text/plain": [
              "Empty DataFrame\n",
              "Columns: [address, bluecar_counter, utilib_counter, utilib_1.4_counter, charge_slots, charging_status, city, id, kind, geo_point, postal_code, public_name, rental_status, scheduled_at, slots, station_type, status, subscription_status, year, month, day, hour, minute, date, bluecar_counter_diff, utilib_counter_diff, utilib_1.4_counter_diff]\n",
              "Index: []\n",
              "\n",
              "[0 rows x 27 columns]"
            ],
            "text/html": [
              "<div>\n",
              "<style scoped>\n",
              "    .dataframe tbody tr th:only-of-type {\n",
              "        vertical-align: middle;\n",
              "    }\n",
              "\n",
              "    .dataframe tbody tr th {\n",
              "        vertical-align: top;\n",
              "    }\n",
              "\n",
              "    .dataframe thead th {\n",
              "        text-align: right;\n",
              "    }\n",
              "</style>\n",
              "<table border=\"1\" class=\"dataframe\">\n",
              "  <thead>\n",
              "    <tr style=\"text-align: right;\">\n",
              "      <th></th>\n",
              "      <th>address</th>\n",
              "      <th>bluecar_counter</th>\n",
              "      <th>utilib_counter</th>\n",
              "      <th>utilib_1.4_counter</th>\n",
              "      <th>charge_slots</th>\n",
              "      <th>charging_status</th>\n",
              "      <th>city</th>\n",
              "      <th>id</th>\n",
              "      <th>kind</th>\n",
              "      <th>geo_point</th>\n",
              "      <th>...</th>\n",
              "      <th>subscription_status</th>\n",
              "      <th>year</th>\n",
              "      <th>month</th>\n",
              "      <th>day</th>\n",
              "      <th>hour</th>\n",
              "      <th>minute</th>\n",
              "      <th>date</th>\n",
              "      <th>bluecar_counter_diff</th>\n",
              "      <th>utilib_counter_diff</th>\n",
              "      <th>utilib_1.4_counter_diff</th>\n",
              "    </tr>\n",
              "  </thead>\n",
              "  <tbody>\n",
              "  </tbody>\n",
              "</table>\n",
              "<p>0 rows × 27 columns</p>\n",
              "</div>"
            ]
          },
          "metadata": {
            "tags": []
          },
          "execution_count": 126
        }
      ]
    },
    {
      "cell_type": "code",
      "metadata": {
        "id": "4S30ljXg02qK",
        "colab_type": "code",
        "outputId": "b5547ee3-6bed-4763-c671-d01543bf240d",
        "colab": {
          "base_uri": "https://localhost:8080/",
          "height": 96
        }
      },
      "source": [
        "car[(car['public_name']=='Fontenay-Sous-Bois/Rabelais/12') & (car['postal_code']==75015)]"
      ],
      "execution_count": 0,
      "outputs": [
        {
          "output_type": "execute_result",
          "data": {
            "text/plain": [
              "Empty DataFrame\n",
              "Columns: [address, bluecar_counter, utilib_counter, utilib_1.4_counter, charge_slots, charging_status, city, id, kind, geo_point, postal_code, public_name, rental_status, scheduled_at, slots, station_type, status, subscription_status, year, month, day, hour, minute, date, bluecar_counter_diff, utilib_counter_diff, utilib_1.4_counter_diff]\n",
              "Index: []\n",
              "\n",
              "[0 rows x 27 columns]"
            ],
            "text/html": [
              "<div>\n",
              "<style scoped>\n",
              "    .dataframe tbody tr th:only-of-type {\n",
              "        vertical-align: middle;\n",
              "    }\n",
              "\n",
              "    .dataframe tbody tr th {\n",
              "        vertical-align: top;\n",
              "    }\n",
              "\n",
              "    .dataframe thead th {\n",
              "        text-align: right;\n",
              "    }\n",
              "</style>\n",
              "<table border=\"1\" class=\"dataframe\">\n",
              "  <thead>\n",
              "    <tr style=\"text-align: right;\">\n",
              "      <th></th>\n",
              "      <th>address</th>\n",
              "      <th>bluecar_counter</th>\n",
              "      <th>utilib_counter</th>\n",
              "      <th>utilib_1.4_counter</th>\n",
              "      <th>charge_slots</th>\n",
              "      <th>charging_status</th>\n",
              "      <th>city</th>\n",
              "      <th>id</th>\n",
              "      <th>kind</th>\n",
              "      <th>geo_point</th>\n",
              "      <th>...</th>\n",
              "      <th>subscription_status</th>\n",
              "      <th>year</th>\n",
              "      <th>month</th>\n",
              "      <th>day</th>\n",
              "      <th>hour</th>\n",
              "      <th>minute</th>\n",
              "      <th>date</th>\n",
              "      <th>bluecar_counter_diff</th>\n",
              "      <th>utilib_counter_diff</th>\n",
              "      <th>utilib_1.4_counter_diff</th>\n",
              "    </tr>\n",
              "  </thead>\n",
              "  <tbody>\n",
              "  </tbody>\n",
              "</table>\n",
              "<p>0 rows × 27 columns</p>\n",
              "</div>"
            ]
          },
          "metadata": {
            "tags": []
          },
          "execution_count": 127
        }
      ]
    }
  ]
}